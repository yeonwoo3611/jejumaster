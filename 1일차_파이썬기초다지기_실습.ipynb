{
  "cells": [
    {
      "cell_type": "markdown",
      "metadata": {
        "id": "view-in-github",
        "colab_type": "text"
      },
      "source": [
        "<a href=\"https://colab.research.google.com/github/yeonwoo3611/jejumaster/blob/main/1%EC%9D%BC%EC%B0%A8_%ED%8C%8C%EC%9D%B4%EC%8D%AC%EA%B8%B0%EC%B4%88%EB%8B%A4%EC%A7%80%EA%B8%B0_%EC%8B%A4%EC%8A%B5.ipynb\" target=\"_parent\"><img src=\"https://colab.research.google.com/assets/colab-badge.svg\" alt=\"Open In Colab\"/></a>"
      ]
    },
    {
      "cell_type": "markdown",
      "metadata": {
        "id": "zRxHpy-28GGG"
      },
      "source": [
        "# 1일차-파이썬 기초 다지기"
      ]
    },
    {
      "cell_type": "markdown",
      "source": [
        "## 1.파이썬 이해하기"
      ],
      "metadata": {
        "id": "VRVM91mPB34V"
      }
    },
    {
      "cell_type": "markdown",
      "metadata": {
        "id": "hOwZhukd8GGK"
      },
      "source": [
        "### 1-2.파이썬 학습환경 만들기"
      ]
    },
    {
      "cell_type": "markdown",
      "metadata": {
        "id": "HAFtSTG28GGL"
      },
      "source": [
        "#### 파이썬 설치 위치 확인"
      ]
    },
    {
      "cell_type": "code",
      "execution_count": 1,
      "metadata": {
        "id": "46cMOIHW8GGM",
        "colab": {
          "base_uri": "https://localhost:8080/",
          "height": 35
        },
        "outputId": "117a525e-4ccd-4180-bb9f-4a54fe2376b0"
      },
      "outputs": [
        {
          "output_type": "execute_result",
          "data": {
            "text/plain": [
              "'/usr/bin/python3'"
            ],
            "application/vnd.google.colaboratory.intrinsic+json": {
              "type": "string"
            }
          },
          "metadata": {},
          "execution_count": 1
        }
      ],
      "source": [
        "import sys\n",
        "\n",
        "sys.executable"
      ]
    },
    {
      "cell_type": "code",
      "execution_count": null,
      "metadata": {
        "scrolled": true,
        "id": "CO9pIWvq8GGN"
      },
      "outputs": [],
      "source": [
        "print(sys.path)"
      ]
    },
    {
      "cell_type": "markdown",
      "source": [
        "### 1-3.파이썬 라이브러리 사용 방법"
      ],
      "metadata": {
        "id": "0ys111OTCLoc"
      }
    },
    {
      "cell_type": "markdown",
      "metadata": {
        "id": "5KtJAiS08GGO"
      },
      "source": [
        "#### 설치된 라이브러리 전체 확인"
      ]
    },
    {
      "cell_type": "code",
      "execution_count": null,
      "metadata": {
        "id": "0bsTdq6y8GGO"
      },
      "outputs": [],
      "source": [
        "pip list"
      ]
    },
    {
      "cell_type": "markdown",
      "metadata": {
        "id": "G_IjDeFh8GGP"
      },
      "source": [
        "#### 특정 라이브러리 설치 확인"
      ]
    },
    {
      "cell_type": "code",
      "execution_count": null,
      "metadata": {
        "id": "TqvE9YpV8GGP"
      },
      "outputs": [],
      "source": [
        "pip show numpy"
      ]
    },
    {
      "cell_type": "markdown",
      "source": [
        "#### 라이브러리 설치 및 삭제"
      ],
      "metadata": {
        "id": "KE15Fd6jCbUK"
      }
    },
    {
      "cell_type": "code",
      "source": [
        "# 라이브러리 설치\n",
        "pip install numpy\n",
        "\n",
        "# 라이브러리 삭제\n",
        "# pip uninstall numpy"
      ],
      "metadata": {
        "id": "PlG-i1fYCbdI"
      },
      "execution_count": null,
      "outputs": []
    },
    {
      "cell_type": "markdown",
      "metadata": {
        "id": "6Ef7gKpD8GGP"
      },
      "source": [
        "### 수업에 사용할 라이브러리 일부 설치하기\n",
        "(PC 윈도우 명령프롬프트에서 먼저 실행) pip를 최신으로 업그레이드한 후\n",
        "파이썬 라이브러리를 설치하도록 한다.\n",
        "- python -m pip install --upgrade pip  "
      ]
    },
    {
      "cell_type": "code",
      "execution_count": null,
      "metadata": {
        "colab": {
          "base_uri": "https://localhost:8080/"
        },
        "id": "WnEwfA_x8GGQ",
        "outputId": "776d8469-56cc-4d2b-b4f4-01ca7903c04e"
      },
      "outputs": [
        {
          "output_type": "stream",
          "name": "stdout",
          "text": [
            "Requirement already satisfied: numpy in /usr/local/lib/python3.10/dist-packages (1.23.5)\n"
          ]
        }
      ],
      "source": [
        "!pip install numpy"
      ]
    },
    {
      "cell_type": "markdown",
      "source": [
        "### 1-4.파이썬 기초 입문하기"
      ],
      "metadata": {
        "id": "KstHzAdvG1Cv"
      }
    },
    {
      "cell_type": "markdown",
      "source": [
        "#### 파이썬 오류&예외처리"
      ],
      "metadata": {
        "id": "KSNOrnoMHEjD"
      }
    },
    {
      "cell_type": "code",
      "source": [
        "# Syntax 오류 발생 예\n",
        "a = 1\n",
        "if a < 9\n",
        "    print('a < 9')"
      ],
      "metadata": {
        "colab": {
          "base_uri": "https://localhost:8080/",
          "height": 146
        },
        "id": "B8pmiTi5G8JX",
        "outputId": "aa4a046e-1567-414a-83fa-c3f958e75288"
      },
      "execution_count": null,
      "outputs": [
        {
          "output_type": "error",
          "ename": "SyntaxError",
          "evalue": "ignored",
          "traceback": [
            "\u001b[0;36m  File \u001b[0;32m\"<ipython-input-15-280c9a905a11>\"\u001b[0;36m, line \u001b[0;32m3\u001b[0m\n\u001b[0;31m    if a < 9\u001b[0m\n\u001b[0m            ^\u001b[0m\n\u001b[0;31mSyntaxError\u001b[0m\u001b[0;31m:\u001b[0m expected ':'\n"
          ]
        }
      ]
    },
    {
      "cell_type": "code",
      "source": [
        "# 오류 예외처리\n",
        "while True:\n",
        "    try:\n",
        "        x = int(input('Please enter a number: '))\n",
        "        break\n",
        "\n",
        "    except ValueError:\n",
        "        print('Oops! That was no valid number. Try again...')\n",
        "\n",
        "print('-----')"
      ],
      "metadata": {
        "colab": {
          "base_uri": "https://localhost:8080/"
        },
        "id": "GJ1Y-0wMHXJd",
        "outputId": "a42286f2-cc75-4969-f050-59dd66178c32"
      },
      "execution_count": null,
      "outputs": [
        {
          "output_type": "stream",
          "name": "stdout",
          "text": [
            "Please enter a number: apple\n",
            "Oops! That was no valid number. Try again...\n",
            "Please enter a number: 2\n",
            "-----\n"
          ]
        }
      ]
    },
    {
      "cell_type": "markdown",
      "source": [
        "### [실습] 파이썬 정보 확인하기\n",
        "\n",
        "\n",
        "1.   설치된 파이썬 버전 출력하기\n",
        "2.   파이썬 실행파일 위치 출력하기\n",
        "\n"
      ],
      "metadata": {
        "id": "BVZeLUFeILol"
      }
    },
    {
      "cell_type": "code",
      "source": [
        "#설치된 파이썬 버전 출력\n",
        "import sys\n",
        "print('파이썬 버전: %s ' % sys.version)\n",
        "print(f'파이썬 버전: {sys.version} ')\n",
        "\n",
        "#파이썬 실행파일 위치\n",
        "print(f'파이썬 실행파일 위치: {sys.executable} ')"
      ],
      "metadata": {
        "id": "wYTlynjPIaj4",
        "colab": {
          "base_uri": "https://localhost:8080/"
        },
        "outputId": "59b15681-ea59-4854-ad73-7ebd66d35061"
      },
      "execution_count": null,
      "outputs": [
        {
          "output_type": "stream",
          "name": "stdout",
          "text": [
            "파이썬 버전: 3.10.12 (main, Jun 11 2023, 05:26:28) [GCC 11.4.0] \n",
            "파이썬 버전: 3.10.12 (main, Jun 11 2023, 05:26:28) [GCC 11.4.0] \n",
            "파이썬 실행파일 위치: /usr/bin/python3 \n"
          ]
        }
      ]
    },
    {
      "cell_type": "markdown",
      "metadata": {
        "id": "wl2PYxtB8GGR"
      },
      "source": [
        "----------"
      ]
    },
    {
      "cell_type": "markdown",
      "source": [
        "## 2.파이썬 기초 다지기"
      ],
      "metadata": {
        "id": "T20_kqnwDKe2"
      }
    },
    {
      "cell_type": "markdown",
      "metadata": {
        "id": "GPQdotYg8GGR"
      },
      "source": [
        "### 2-1.파이썬 자료형과 연산자"
      ]
    },
    {
      "cell_type": "markdown",
      "source": [
        "### **[파이썬 자료형]**"
      ],
      "metadata": {
        "id": "tvdq0vw7OBaH"
      }
    },
    {
      "cell_type": "markdown",
      "source": [
        "### [실습문제]\n",
        "\n",
        "\n",
        "-  문제1: 10 + 3 x 4 결과 출력\n",
        "- 문제2: 아이폰 15대를 가지고 있다. 아이폰의 가격이 130만원 일 때 총 금액은?\n",
        "- 문제3: 주어진 자연수가 홀수인지 짝수인지 판별하는 방법은?\n",
        "- 문제4: 2x2x2x5x5x5x5x3x3x3x3을 제곱형태로 나타낸 후 그 결과 출력하기\n",
        "\n"
      ],
      "metadata": {
        "id": "0l4jT7BAI2_t"
      }
    },
    {
      "cell_type": "code",
      "source": [
        "\n",
        "\n"
      ],
      "metadata": {
        "id": "F0LQlgLkI3R2"
      },
      "execution_count": null,
      "outputs": []
    },
    {
      "cell_type": "markdown",
      "metadata": {
        "id": "rQVzLcNR8GGR"
      },
      "source": [
        "#### 파이썬 자료형 확인"
      ]
    },
    {
      "cell_type": "code",
      "execution_count": null,
      "metadata": {
        "colab": {
          "base_uri": "https://localhost:8080/"
        },
        "id": "re9ioSIM8GGR",
        "outputId": "5b249a28-bc89-4ec1-99c5-5611ecc0ebf8"
      },
      "outputs": [
        {
          "output_type": "stream",
          "name": "stdout",
          "text": [
            "123의 자료형: <class 'int'>\n",
            "123의 자료형: <class 'str'>\n",
            "[123]의 자료형: <class 'list'>\n",
            "(123,)의 자료형: <class 'tuple'>\n",
            "{'key': 123}의 자료형: <class 'dict'>\n",
            "{123}의 자료형: <class 'set'>\n",
            "True의 자료형: <class 'bool'>\n"
          ]
        }
      ],
      "source": [
        "d1 = 123\n",
        "d2 = '123'\n",
        "d3 = [123]\n",
        "d4 = (123,)\n",
        "d5 = {'key':123}\n",
        "d6 = {123}\n",
        "d7 = True\n",
        "\n",
        "print(f'{d1}의 자료형: {type(d1)}')\n",
        "print(f'{d2}의 자료형: {type(d2)}')\n",
        "print(f'{d3}의 자료형: {type(d3)}')\n",
        "print(f'{d4}의 자료형: {type(d4)}')\n",
        "print(f'{d5}의 자료형: {type(d5)}')\n",
        "print(f'{d6}의 자료형: {type(d6)}')\n",
        "print(f'{d7}의 자료형: {type(d7)}')"
      ]
    },
    {
      "cell_type": "code",
      "execution_count": null,
      "metadata": {
        "scrolled": true,
        "id": "gbzIvlUi8GGR",
        "colab": {
          "base_uri": "https://localhost:8080/"
        },
        "outputId": "4b21f091-69d3-44da-c04d-d9314d806777"
      },
      "outputs": [
        {
          "output_type": "stream",
          "name": "stdout",
          "text": [
            "데이터 '123' 의 자료형: <class 'int'>\n",
            "데이터 '123' 의 자료형: <class 'str'>\n",
            "데이터 '[123]' 의 자료형: <class 'list'>\n",
            "데이터 '(123,)' 의 자료형: <class 'tuple'>\n",
            "데이터 '{'key': 123}' 의 자료형: <class 'dict'>\n",
            "데이터 '{123}' 의 자료형: <class 'set'>\n",
            "데이터 'True' 의 자료형: <class 'bool'>\n"
          ]
        }
      ],
      "source": [
        "datas = [123,'123',[123],(123,),{'key':123},{123},True]\n",
        "\n",
        "for d in datas:\n",
        "    print(f\"데이터 '{d}' 의 자료형: {type(d)}\")"
      ]
    },
    {
      "cell_type": "markdown",
      "metadata": {
        "id": "EDFiaZyv8GGR"
      },
      "source": [
        "#### 실습문제\n",
        "두 수를 입력 받아 덧셈, 뺄셈, 곱셈, 몫, 나머지를 출력하는 프로그램을 작성하세요\n"
      ]
    },
    {
      "cell_type": "code",
      "execution_count": null,
      "metadata": {
        "scrolled": true,
        "id": "a9sG7Q738GGS",
        "colab": {
          "base_uri": "https://localhost:8080/"
        },
        "outputId": "08a1487e-a70d-47b1-fd74-84b2b1509338"
      },
      "outputs": [
        {
          "output_type": "stream",
          "name": "stdout",
          "text": [
            "첫번째 숫자: 50\n",
            "두번째 숫자: 3\n",
            "덧셈: 50 + 3 = 53\n",
            "뺄셈: 50 - 3 = 47\n",
            "곱셈: 50 * 3 = 150\n",
            "몫:   50 // 3 = 16\n",
            "나머지:50 % 3 = 2\n"
          ]
        }
      ],
      "source": [
        "# 정수로 변환:int(), 실수로 변환: float()\n",
        "num1 = int(input('첫번째 숫자: '))   # 정수로 변환\n",
        "num2 = int(input('두번째 숫자: '))\n",
        "\n",
        "print(f'덧셈: {num1} + {num2} = {num1+num2}')\n",
        "print(f'뺄셈: {num1} - {num2} = {num1-num2}')\n",
        "print(f'곱셈: {num1} * {num2} = {num1*num2}')\n",
        "print(f'몫:   {num1} // {num2} = {num1//num2}')\n",
        "print(f'나머지:{num1} % {num2} = {num1%num2}')"
      ]
    },
    {
      "cell_type": "code",
      "source": [
        "a = int(input('첫번째 숫자를 입력해주세요:'))\n",
        "b = int(input('두번째 숫자를 입력해주세요:'))\n",
        "print('--' * 20)\n",
        "print(f'덧셈: {a} + {b} = {a+b}')\n",
        "print(f'뺄셈: {a} - {b} =', a-b)\n",
        "print(f'곱셈: {a} * {b} =', a*b)\n",
        "print(f'나눗셈: {a} // {b} =', a//b)\n",
        "print(f'나머지: {a} % {b} =', a%b)"
      ],
      "metadata": {
        "colab": {
          "base_uri": "https://localhost:8080/"
        },
        "id": "9wYFXAfch1eB",
        "outputId": "42c6191d-da8c-4aa0-d9e7-0694221d783d"
      },
      "execution_count": null,
      "outputs": [
        {
          "output_type": "stream",
          "name": "stdout",
          "text": [
            "첫번째 숫자를 입력해주세요:50\n",
            "두번째 숫자를 입력해주세요:3\n",
            "----------------------------------------\n",
            "덧셈: 50 + 3 = 53\n",
            "뺄셈: 50 - 3 = 47\n",
            "곱셈: 50 * 3 = 150\n",
            "나눗셈: 50 // 3 = 16\n",
            "나머지: 50 % 3 = 2\n"
          ]
        }
      ]
    },
    {
      "cell_type": "markdown",
      "metadata": {
        "id": "LqAbyRHs8GGS"
      },
      "source": [
        "#### 실습문제 :  시간 계산 프로그램\n",
        "속력과 거리를 입력 받아 시간을 계산하여 출력하는 프로그램을 만드세요!\n",
        "- 시간 = 거리 / 속력\n",
        "\n"
      ]
    },
    {
      "cell_type": "code",
      "execution_count": null,
      "metadata": {
        "id": "YwepfYt98GGS"
      },
      "outputs": [],
      "source": [
        "velocity = input('속력를 입력해 주세요(km/h) : ')\n",
        "distance = input('거리를 입력해 주세요(km) : ')\n",
        "\n",
        "\n"
      ]
    },
    {
      "cell_type": "markdown",
      "source": [
        "- eval()함수 사용하여 문자열을 계산할 수 있다"
      ],
      "metadata": {
        "id": "sHIxGA0xLj0C"
      }
    },
    {
      "cell_type": "code",
      "execution_count": null,
      "metadata": {
        "id": "gvVxuLjX8GGS",
        "colab": {
          "base_uri": "https://localhost:8080/"
        },
        "outputId": "70d630a2-05ea-497f-f891-2a1488210640"
      },
      "outputs": [
        {
          "output_type": "stream",
          "name": "stdout",
          "text": [
            "3.4\n"
          ]
        }
      ],
      "source": [
        "# eval()함수 사용\n",
        "time = eval(f'{distance} / {velocity}')\n",
        "print(time)"
      ]
    },
    {
      "cell_type": "markdown",
      "metadata": {
        "id": "tECEWKan8GGS"
      },
      "source": [
        "#### 실습문제 : 정수 합 구하기\n",
        "아래와 같이 정수 a을 입력 받아, a + aa + aaa의 결과 값을 구하는 프로그램을 작성하세요"
      ]
    },
    {
      "cell_type": "code",
      "execution_count": null,
      "metadata": {
        "scrolled": true,
        "id": "a04GPnn98GGS",
        "colab": {
          "base_uri": "https://localhost:8080/"
        },
        "outputId": "de09031e-c3ed-4bcd-a192-653a2fa4952e"
      },
      "outputs": [
        {
          "output_type": "stream",
          "name": "stdout",
          "text": [
            "숫자 하나를 입력하세요: 7\n",
            "7 + 77 + 777 = 861\n"
          ]
        }
      ],
      "source": [
        "a = input('숫자 하나를 입력하세요: ')\n",
        "aa = int(a+a)\n",
        "aaa= int(a+a+a)\n",
        "a  = int(a)\n",
        "print(f'{a} + {aa} + {aaa} = {a+aa+aaa }')"
      ]
    },
    {
      "cell_type": "code",
      "source": [
        "a = input('숫자 하나를 입력하세요: ')\n",
        "print(f\"{a}+{aa}+{aaa} = {eval(f'{a}+{aa}+{aaa}')}\")\n",
        "# value = f'{a}+{aa}+{aaa}'\n",
        "# print(f\"{value} = {eval(value)}\")"
      ],
      "metadata": {
        "colab": {
          "base_uri": "https://localhost:8080/"
        },
        "id": "5MsO1moklBCG",
        "outputId": "11600f72-7a2e-4cc5-8746-f8764128ce6b"
      },
      "execution_count": null,
      "outputs": [
        {
          "output_type": "stream",
          "name": "stdout",
          "text": [
            "숫자 하나를 입력하세요: 7\n",
            "7+77+777 = 861\n"
          ]
        }
      ]
    },
    {
      "cell_type": "markdown",
      "source": [
        "#### 내장 수학 함수\n",
        "- 파이썬 내장 함수 https://docs.python.org/ko/3.10/library/functions.html"
      ],
      "metadata": {
        "id": "fCTCbmTxM-me"
      }
    },
    {
      "cell_type": "code",
      "source": [
        "import math\n",
        "\n",
        "print(f'원주율: {math.pi}')\n",
        "print(f'절대값: {abs(-10)}')\n",
        "print(f'반올림: {round(1.791, 2)}')\n",
        "print(f'올림  : {math.ceil(1.7)}')\n",
        "print(f'내림  : {math.floor(1.7)}')\n",
        "print(f'제곱  : {math.pow(2, 10)}')\n",
        "print(f'제곱근: {math.sqrt(4)}')\n",
        "print(f'로그  : {math.log(10) }')"
      ],
      "metadata": {
        "colab": {
          "base_uri": "https://localhost:8080/"
        },
        "id": "6Edr-y4FNAzY",
        "outputId": "3e3ee2bd-7f59-43dd-cca1-e75238cb6a42"
      },
      "execution_count": null,
      "outputs": [
        {
          "output_type": "stream",
          "name": "stdout",
          "text": [
            "원주율: 3.141592653589793\n",
            "절대값: 10\n",
            "반올림: 1.79\n",
            "올림  : 2\n",
            "내림  : 1\n",
            "제곱  : 1024.0\n",
            "제곱근: 2.0\n",
            "로그  : 2.302585092994046\n"
          ]
        }
      ]
    },
    {
      "cell_type": "markdown",
      "source": [
        "### [실습문제] : 수학 함수 사용하기\n",
        "- 문제1: 반지름이 4인 원의 넓이 출력\n",
        "- 문제2: 3.14 곱하가 2 나누기 7의 값을 반올림하여 계산 결과 출력\n",
        "- 문제3: 원주율을 3.14로 만들어서 반지름이 4인 원의 둘레의 길이 출력"
      ],
      "metadata": {
        "id": "aW7za8RUNErb"
      }
    },
    {
      "cell_type": "code",
      "source": [
        "\n",
        "\n"
      ],
      "metadata": {
        "id": "wdpC3giLNOhp"
      },
      "execution_count": null,
      "outputs": []
    },
    {
      "cell_type": "markdown",
      "metadata": {
        "id": "em_gXIiP8GGT"
      },
      "source": [
        "-----"
      ]
    },
    {
      "cell_type": "markdown",
      "source": [
        "### **[문자와 문자열]**"
      ],
      "metadata": {
        "id": "_AgpChJ_Ntbt"
      }
    },
    {
      "cell_type": "markdown",
      "source": [
        "#### 문자와 문자열 변환"
      ],
      "metadata": {
        "id": "hCBT7HywOk5c"
      }
    },
    {
      "cell_type": "code",
      "source": [
        "# 문자 --> 숫자(정수) 로 변환 : ord() 함수 사용\n",
        "print( ord('A') )\n",
        "print( ord('!') )\n",
        "print( ord('가') )"
      ],
      "metadata": {
        "id": "D1WbhodqOrVN"
      },
      "execution_count": null,
      "outputs": []
    },
    {
      "cell_type": "code",
      "source": [
        "# 숫자(정수) --> 문자 로 변환 : chr() 함수 사용\n",
        "print( chr(65) )\n",
        "print( chr(66) )\n",
        "print( chr(97) )\n",
        "print( chr(98) )\n",
        "print( chr(44032) )\n",
        "print( chr(44033) )"
      ],
      "metadata": {
        "id": "xS6nc_-XOw9X"
      },
      "execution_count": null,
      "outputs": []
    },
    {
      "cell_type": "code",
      "source": [
        "# 문자 --> 숫자 --> 이진수 로 변환\n",
        "for c in '파이썬':\n",
        "    숫자변환 = ord(c)              # unicode\n",
        "    이진수변환 = bin(숫자변환)     # 16진수 binarycode\n",
        "    print( 이진수변환, end = ' ')  # 한 줄로 표현하기"
      ],
      "metadata": {
        "id": "_gesbU8AOzJ_"
      },
      "execution_count": null,
      "outputs": []
    },
    {
      "cell_type": "code",
      "source": [
        "for c in '파이썬':\n",
        "    # 이진수에서 앞'0b'를 없애기 위해 format() 함수 사용할 수 있다.\n",
        "    print( format(ord(c), 'b'), end = ' ')  # 한 줄로 표현하기"
      ],
      "metadata": {
        "id": "ZQyZdBeSOzrE"
      },
      "execution_count": null,
      "outputs": []
    },
    {
      "cell_type": "markdown",
      "source": [
        "#### 문자열 따옴표로 지정"
      ],
      "metadata": {
        "id": "xpJdl4QwO55X"
      }
    },
    {
      "cell_type": "code",
      "source": [
        "# 큰 따옴표 or 작은 따옴표로 지정한다\n",
        "print('Hello')\n",
        "print(\"Hello\")\n",
        "print(\"Hello 'world\")\n",
        "print('Hello \"world')\n",
        "print(' \"Yes, I can!\" ')"
      ],
      "metadata": {
        "id": "zl_C1UOnPC8k"
      },
      "execution_count": null,
      "outputs": []
    },
    {
      "cell_type": "code",
      "source": [
        "#따옴표 세 개 사용 : 여러 줄로 표현할 때\n",
        "a = '''박씨가 소리질렀다.\n",
        "도둑이야!'''\n",
        "print(a)"
      ],
      "metadata": {
        "id": "P3Q6389qPDW6"
      },
      "execution_count": null,
      "outputs": []
    },
    {
      "cell_type": "code",
      "source": [
        "menu = '''OOO카페 메뉴판\n",
        "- 아메리카노:  3000원\n",
        "- 카페라테:     4000원\n",
        "- 카페모카:     5000원'''\n",
        "print(menu)\n",
        "print('-' * 30)\n",
        "coffee = input('주문하실 음료를 입력하세요(ex:아메리카노) => ')\n",
        "cup = input(f'{coffee} 몇 잔을 주문하시겠습니까?: ')\n",
        "\n",
        "print(f'주문하신 음료는 {coffee} {cup} 잔 입니다.')"
      ],
      "metadata": {
        "id": "ZNImZioTPMTF",
        "colab": {
          "base_uri": "https://localhost:8080/"
        },
        "outputId": "1a651f9c-ce3a-406c-a12c-2cb7a591b389"
      },
      "execution_count": null,
      "outputs": [
        {
          "output_type": "stream",
          "name": "stdout",
          "text": [
            "OOO카페 메뉴판\n",
            "- 아메리카노:  3000원\n",
            "- 카페라테:     4000원\n",
            "- 카페모카:     5000원\n",
            "주문하실 음료를 입력하세요(ex:아메리카노) => 카페라테\n",
            "카페라테 몇 잔을 주문하시겠습니까?: 2\n",
            "주문하신 음료는 카페라테 2 잔 입니다.\n"
          ]
        }
      ]
    },
    {
      "cell_type": "markdown",
      "source": [
        "#### 문자열 연산\n",
        "- (+): 문자열 연결하기\n",
        "- (*) : 반복의 의미"
      ],
      "metadata": {
        "id": "0hueAcbNczkD"
      }
    },
    {
      "cell_type": "code",
      "source": [
        "# 문자열 연결하기\n",
        "print('Hello'+'world')      # 붙여서\n",
        "print('Hello','world', '!') # 공백문자\n",
        "\n",
        "a = \"Python\"\n",
        "b = \" is very fun!\"\n",
        "print(a+b)"
      ],
      "metadata": {
        "id": "Z5KLgMT3c5kA",
        "colab": {
          "base_uri": "https://localhost:8080/"
        },
        "outputId": "6e8c873b-2b49-4aae-8e3e-7e5341c5b98f"
      },
      "execution_count": null,
      "outputs": [
        {
          "output_type": "stream",
          "name": "stdout",
          "text": [
            "Helloworld\n",
            "Hello world !\n",
            "Python is very fun!\n"
          ]
        }
      ]
    },
    {
      "cell_type": "code",
      "source": [
        "# 반복의 의미\n",
        "print('Hello'*3)\n",
        "print('-' * 30)"
      ],
      "metadata": {
        "id": "3CNBVzLJc53l",
        "colab": {
          "base_uri": "https://localhost:8080/"
        },
        "outputId": "ff44f769-3142-4d1e-d025-ee4beebb3c86"
      },
      "execution_count": null,
      "outputs": [
        {
          "output_type": "stream",
          "name": "stdout",
          "text": [
            "HelloHelloHello\n",
            "------------------------------\n"
          ]
        }
      ]
    },
    {
      "cell_type": "markdown",
      "source": [
        "### 실습문제 : 문자열 출력하기\n",
        "- 문제1: 화면에   Mary’s cosmetics   출력\n",
        "- 문제2: 화면에  박씨가 소리질렀다. “도둑이야!”.  출력\n",
        "- 문제3: 다음 코드 실행시켜서 \\t와 \\n의 역할 확인하기 <br>\n",
        "print(\"안녕하세요.\\n오늘\\t날씨가\\t\\t좋습니다.\")"
      ],
      "metadata": {
        "id": "zGFtY_D1ckjy"
      }
    },
    {
      "cell_type": "code",
      "source": [
        "print(\"Mary's cosmetics\")\n",
        "print('박씨가 소리질렀다. \"도둑이야!\".')\n",
        "print(\"안녕하세요.\\n오늘\\t날씨가\\t\\t좋습니다.\")\n"
      ],
      "metadata": {
        "id": "zZAO6RHWpCQ6",
        "colab": {
          "base_uri": "https://localhost:8080/"
        },
        "outputId": "8243e5ca-14d8-48f3-b0da-fdc78218adbe"
      },
      "execution_count": null,
      "outputs": [
        {
          "output_type": "stream",
          "name": "stdout",
          "text": [
            "Mary's cosmetics\n",
            "박씨가 소리질렀다. \"도둑이야!\".\n",
            "안녕하세요.\n",
            "오늘\t날씨가\t\t좋습니다.\n"
          ]
        }
      ]
    },
    {
      "cell_type": "markdown",
      "source": [
        "### 실습문제 :  구글TTS(gTTS) 사용하여 음성 출력하기"
      ],
      "metadata": {
        "id": "Hb6l5EjLQB2m"
      }
    },
    {
      "cell_type": "code",
      "source": [
        "# 구글 tts 프로그램\n",
        "!pip install gTTS"
      ],
      "metadata": {
        "id": "-eY--f6MPwTf",
        "colab": {
          "base_uri": "https://localhost:8080/"
        },
        "outputId": "a2f75e60-9acc-4212-d0d1-6385d26a1ada"
      },
      "execution_count": null,
      "outputs": [
        {
          "output_type": "stream",
          "name": "stdout",
          "text": [
            "Collecting gTTS\n",
            "  Downloading gTTS-2.4.0-py3-none-any.whl (29 kB)\n",
            "Requirement already satisfied: requests<3,>=2.27 in /usr/local/lib/python3.10/dist-packages (from gTTS) (2.31.0)\n",
            "Requirement already satisfied: click<8.2,>=7.1 in /usr/local/lib/python3.10/dist-packages (from gTTS) (8.1.7)\n",
            "Requirement already satisfied: charset-normalizer<4,>=2 in /usr/local/lib/python3.10/dist-packages (from requests<3,>=2.27->gTTS) (3.3.0)\n",
            "Requirement already satisfied: idna<4,>=2.5 in /usr/local/lib/python3.10/dist-packages (from requests<3,>=2.27->gTTS) (3.4)\n",
            "Requirement already satisfied: urllib3<3,>=1.21.1 in /usr/local/lib/python3.10/dist-packages (from requests<3,>=2.27->gTTS) (2.0.6)\n",
            "Requirement already satisfied: certifi>=2017.4.17 in /usr/local/lib/python3.10/dist-packages (from requests<3,>=2.27->gTTS) (2023.7.22)\n",
            "Installing collected packages: gTTS\n",
            "Successfully installed gTTS-2.4.0\n"
          ]
        }
      ]
    },
    {
      "cell_type": "code",
      "source": [
        "# 영어 출력\n",
        "from gtts import gTTS\n",
        "from IPython.display import Audio\n",
        "\n",
        "eng_wav = gTTS('Hello World')\n",
        "eng_wav.save('eng.wav')\n",
        "\n",
        "display(Audio('eng.wav', autoplay=True))"
      ],
      "metadata": {
        "id": "O_xqpl0pPx6k",
        "colab": {
          "base_uri": "https://localhost:8080/",
          "height": 74
        },
        "outputId": "67657fbc-5c7e-4ba3-ee35-a553c4c415dc"
      },
      "execution_count": null,
      "outputs": [
        {
          "output_type": "display_data",
          "data": {
            "text/plain": [
              "<IPython.lib.display.Audio object>"
            ],
            "text/html": [
              "\n",
              "                <audio  controls=\"controls\" autoplay=\"autoplay\">\n",
              "                    <source src=\"data:audio/x-wav;base64,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\" type=\"audio/x-wav\" />\n",
              "                    Your browser does not support the audio element.\n",
              "                </audio>\n",
              "              "
            ]
          },
          "metadata": {}
        }
      ]
    },
    {
      "cell_type": "code",
      "source": [
        "# 한글 출력\n",
        "from gtts import gTTS\n",
        "from IPython.display import Audio\n",
        "\n",
        "kor_wav = gTTS('안녕하세요.', lang = 'ko')\n",
        "kor_wav.save('kor.wav')\n",
        "\n",
        "display(Audio('kor.wav', autoplay=True))"
      ],
      "metadata": {
        "id": "inyZATWlP3Cp",
        "colab": {
          "base_uri": "https://localhost:8080/",
          "height": 74
        },
        "outputId": "dc629058-1110-4515-a101-ff6ce63a09b6"
      },
      "execution_count": null,
      "outputs": [
        {
          "output_type": "display_data",
          "data": {
            "text/plain": [
              "<IPython.lib.display.Audio object>"
            ],
            "text/html": [
              "\n",
              "                <audio  controls=\"controls\" autoplay=\"autoplay\">\n",
              "                    <source src=\"data:audio/x-wav;base64,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\" type=\"audio/x-wav\" />\n",
              "                    Your browser does not support the audio element.\n",
              "                </audio>\n",
              "              "
            ]
          },
          "metadata": {}
        }
      ]
    },
    {
      "cell_type": "markdown",
      "source": [
        "### 실습문제 :  파일 읽어 음성으로 출력하기"
      ],
      "metadata": {
        "id": "A5onlk2_pJnX"
      }
    },
    {
      "cell_type": "code",
      "source": [
        "# 파일 읽어서 음성으로 출력하기\n",
        "from gtts import gTTS\n",
        "from IPython.display import Audio\n",
        "\n",
        "with open(\"./오감도.txt\", 'r') as f:\n",
        "    s = f.read()\n",
        "    print(s)\n",
        "\n",
        "kor_wav = gTTS(s, lang = 'ko')\n",
        "kor_wav.save('kor.wav')\n",
        "\n",
        "display(Audio('kor.wav', autoplay=True))"
      ],
      "metadata": {
        "id": "LL9LBIfPUS1-",
        "colab": {
          "base_uri": "https://localhost:8080/",
          "height": 584
        },
        "outputId": "c8a56f3e-2185-4893-99fc-62b312231ded"
      },
      "execution_count": null,
      "outputs": [
        {
          "output_type": "stream",
          "name": "stdout",
          "text": [
            "13인의 아해가 도로로 질주하오.\n",
            "(같은 막다른 골목이 적당하오.)\n",
            "\n",
            "\n",
            "제 1의 아해가 무섭다고 그리오.\n",
            "제 2의 아해가 무섭다고 그리오.\n",
            "제 3의 아해가 무섭다고 그리오.\n",
            "제 4의 아해가 무섭다고 그리오.\n",
            "제 5의 아해가 무섭다고 그리오.\n",
            "제 6의 아해가 무섭다고 그리오.\n",
            "제 7의 아해가 무섭다고 그리오.\n",
            "제 8의 아해가 무섭다고 그리오.\n",
            "제 9의 아해가 무섭다고 그리오.\n",
            "제 10의 아해가 무섭다고 그리오.\n",
            "\n",
            "제 11의 아해가 무섭다고 그리오.\n",
            "제 12의 아해가 무섭다고 그리오.\n",
            "제 13의 아해가 무섭다고 그리오.\n",
            "십삼인의 아해는 무서운 아해와 무서워하는 아해와 그렇게 뿐이 모였소. (다른 사람은 없는 것이 차라리 나았소)\n",
            "\n",
            "그 중에 1인의 아해가 무서운 아해라도 좋소.\n",
            "그 중에 2인의 아해가 무서운 아해라도 좋소.\n",
            "그 중에 2인의 아해가 무서워하는 아해라도 좋소.\n",
            "그 중에 1인의 아해가 무서워하는 아해라도 좋소.\n",
            "\n",
            "(길은 뚫린 골목이라도 적당하오.)\n",
            "13인의 아해가 도로로 질주하지 아니하여도 좋소.\n"
          ]
        },
        {
          "output_type": "display_data",
          "data": {
            "text/plain": [
              "<IPython.lib.display.Audio object>"
            ],
            "text/html": [
              "\n",
              "                <audio  controls=\"controls\" autoplay=\"autoplay\">\n",
              "                    <source src=\"data:audio/x-wav;base64,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\" type=\"audio/x-wav\" />\n",
              "                    Your browser does not support the audio element.\n",
              "                </audio>\n",
              "              "
            ]
          },
          "metadata": {}
        }
      ]
    },
    {
      "cell_type": "markdown",
      "metadata": {
        "id": "xPW5SM108GGT"
      },
      "source": [
        "### **[문자열 인덱싱과 슬레이싱]**"
      ]
    },
    {
      "cell_type": "code",
      "source": [
        "a = '우리는 민족중흥의 역사적 사명을 띠고 이 땅에 태어났다.'\n",
        "print(a[3:12] )\n",
        "\n",
        "fruits = 'orange'\n",
        "print(fruits[1:3])"
      ],
      "metadata": {
        "id": "SNAFf0-FPTUO"
      },
      "execution_count": null,
      "outputs": []
    },
    {
      "cell_type": "markdown",
      "metadata": {
        "id": "GdjCIoKx8GGT"
      },
      "source": [
        "### 실습문제 : 문자열 거꾸로 출력하기\n",
        "\n",
        "문자열을 입력 받아 거꾸로 출력하는 프로그램을 작성하세요"
      ]
    },
    {
      "cell_type": "code",
      "source": [
        "s = '문자열을 입력하세요. '\n",
        "s[::-1]"
      ],
      "metadata": {
        "colab": {
          "base_uri": "https://localhost:8080/",
          "height": 35
        },
        "id": "gnWFF6CL_FLk",
        "outputId": "bdaa9829-619b-430b-ca62-45ed55a02c9a"
      },
      "execution_count": null,
      "outputs": [
        {
          "output_type": "execute_result",
          "data": {
            "text/plain": [
              "' .요세하력입 을열자문'"
            ],
            "application/vnd.google.colaboratory.intrinsic+json": {
              "type": "string"
            }
          },
          "metadata": {},
          "execution_count": 43
        }
      ]
    },
    {
      "cell_type": "code",
      "execution_count": null,
      "metadata": {
        "scrolled": true,
        "id": "xo-ZBQiO8GGT",
        "colab": {
          "base_uri": "https://localhost:8080/"
        },
        "outputId": "069c06ba-83e7-4fd4-a03d-5ed400574a1f"
      },
      "outputs": [
        {
          "output_type": "stream",
          "name": "stdout",
          "text": [
            "문자열을 입력하세요.: 오후 강의가 시작되었습니다.\n",
            "거꾸로 출력: .다니습었되작시 가의강 후오\n"
          ]
        }
      ],
      "source": [
        "s = input('문자열을 입력하세요.: ')\n",
        "print(f'거꾸로 출력: {s[ : :-1]}')"
      ]
    },
    {
      "cell_type": "markdown",
      "source": [
        "### 실습문제 : 파일명.확장자명 분리하기"
      ],
      "metadata": {
        "id": "PZghIVpIdg-c"
      }
    },
    {
      "cell_type": "code",
      "source": [
        "a = input('확장자가 포함된 파일명을 입력하세요: ')\n",
        "\n",
        "\n"
      ],
      "metadata": {
        "id": "o3CvgoVJdhN0"
      },
      "execution_count": null,
      "outputs": []
    },
    {
      "cell_type": "markdown",
      "source": [
        "### **[변수 활용]**"
      ],
      "metadata": {
        "id": "OSn4MTyNeVJU"
      }
    },
    {
      "cell_type": "markdown",
      "metadata": {
        "id": "3jnglF5x8GGU"
      },
      "source": [
        "#### 실습문제 : 지불할 음식 총 가격 계산하\n",
        "- 음식가격:  4,450 원\n",
        "- 세금: 6.75%\n",
        "- 팁: 15%\n",
        "1. meal 변수를 선언하고 값을 4450으로 지정하세요.\n",
        "2. tax 변수를 생성하고 값으로 6.75%를 소수점 형태로 지정하세요.\n",
        "3. tip 변수를 생성하고 값으로 15%를 소수점 형태로 지정하세요.\n",
        "4. meal의 변수값에 세금을 곱해 meal 변수에 지정하세요.\n",
        "5. 음식값에 tip을 더해 total 변수에 지정하세요.\n",
        "6. total 변수 값을 출력하세요."
      ]
    },
    {
      "cell_type": "code",
      "execution_count": null,
      "metadata": {
        "id": "-us6IUf28GGU",
        "colab": {
          "base_uri": "https://localhost:8080/"
        },
        "outputId": "7289d12b-3b99-4680-a7c1-c72123c35707"
      },
      "outputs": [
        {
          "output_type": "stream",
          "name": "stdout",
          "text": [
            "세금으로 내야할 금액: 300.375\n",
            "세금 포함된 음식가격: 4750.375\n",
            "팁으로 내야할 금액: 712.55625\n",
            "내가 지불해야할 총 금액: 5462.93125\n"
          ]
        }
      ],
      "source": [
        "meal, tax, tip = 4450, 0.0675, 0.15\n",
        "tax = meal * tax    # 세금으로 내야할 금액\n",
        "meal = meal + tax   # 세금 포함된 음식가격\n",
        "tip = meal * tip    # 팁으로 내야할 금액\n",
        "total = meal + tip  # 내가 지불해야할 총 금액\n",
        "print(f'세금으로 내야할 금액: {tax}')\n",
        "print(f'세금 포함된 음식가격: {meal}')\n",
        "print(f'팁으로 내야할 금액: {tip}')\n",
        "print(f'내가 지불해야할 총 금액: {total}')"
      ]
    },
    {
      "cell_type": "markdown",
      "source": [
        "### 실습문제 : 섭씨온도를 화씨온도로 변환하기\n",
        "- 섭씨 온도 (Celsius): 1 atm에서의 물의 어는점을 0도, 끓는점을 100도로 정한 온도 체계. (°C)\n",
        "- 화씨 온도 (Fahrenheit): 물이 어는 온도는 32도, 물이 끓는 온도는 212도. 180등분. (°F)\n",
        "- 섭씨온도(℃) = (5 / 9) × (℉ - 32)  # Celsius\n",
        "- 화씨온도(℉) = (9 / 5) × ℃ + 32    # Fahrenheit"
      ],
      "metadata": {
        "id": "Csltm-dLetMB"
      }
    },
    {
      "cell_type": "code",
      "execution_count": null,
      "metadata": {
        "id": "3GZB3ozk8GGU"
      },
      "outputs": [],
      "source": [
        "\n",
        "\n"
      ]
    },
    {
      "cell_type": "markdown",
      "metadata": {
        "id": "3UTLuSAp8GGY"
      },
      "source": [
        "--------"
      ]
    },
    {
      "cell_type": "markdown",
      "metadata": {
        "id": "fmU7O8WS8GGY"
      },
      "source": [
        "### **[연산자]**"
      ]
    },
    {
      "cell_type": "code",
      "source": [
        "a = 3\n",
        "if a in [1,2,3]:\n",
        "    print('빙고!')"
      ],
      "metadata": {
        "colab": {
          "base_uri": "https://localhost:8080/"
        },
        "id": "2umAofQiFJPH",
        "outputId": "428005ce-f1f4-430d-ab3f-a8f6696bc4d8"
      },
      "execution_count": null,
      "outputs": [
        {
          "output_type": "stream",
          "name": "stdout",
          "text": [
            "빙고!\n"
          ]
        }
      ]
    },
    {
      "cell_type": "markdown",
      "metadata": {
        "id": "eRCyhgwS8GGY"
      },
      "source": [
        "#### 실습문제 :  동전 교환 프로그램\n",
        "동전교환 프로그램을 작성하세요"
      ]
    },
    {
      "cell_type": "code",
      "execution_count": null,
      "metadata": {
        "id": "g8A7ErL78GGY",
        "colab": {
          "base_uri": "https://localhost:8080/"
        },
        "outputId": "e64d40ee-daff-44e2-9757-f8edfa1ffcca"
      },
      "outputs": [
        {
          "output_type": "stream",
          "name": "stdout",
          "text": [
            "동전으로 교환할 금액을 입력하세요: 4321\n",
            "--------------------------------------------------\n",
            "500원짜리    ==> 8 개\n",
            "100원짜리    ==> 3 개\n",
            "50원짜리    ==> 0 개\n",
            "10원짜리    ==> 2 개\n",
            "잔돈        ==> 1 원\n"
          ]
        }
      ],
      "source": [
        "money = input('동전으로 교환할 금액을 입력하세요: ')\n",
        "print('-'*50)\n",
        "print(f'500원짜리    ==> {int(money)//500} 개')\n",
        "money = int(money) % 500\n",
        "print(f'100원짜리    ==> {money//100} 개')\n",
        "money %= 100   # money = money % 100\n",
        "print(f'50원짜리    ==> {money//50} 개')\n",
        "money %= 50\n",
        "print(f'10원짜리    ==> {money//10} 개')\n",
        "money %= 10\n",
        "print(f'잔돈        ==> {money} 원')"
      ]
    },
    {
      "cell_type": "code",
      "source": [
        "a = int(input('동전으로 교환할 금액을 입력하세요: '))\n",
        "a1 = a // 500\n",
        "a2 = (a % 500) // 100\n",
        "a3 = ((a % 500) % 100) // 50\n",
        "a4 = (((a % 500) % 100) % 50) // 10\n",
        "a5 = (((a % 500) % 100) % 50) % 10\n",
        "print('--' * 20)\n",
        "print(f'500원짜리 ==> {a1} 개')\n",
        "print(f'100원짜리 ==> {a2} 개')\n",
        "print(f'50원짜리 ==> {a3} 개')\n",
        "print(f'10원짜리 ==> {a4} 개')\n",
        "print(f'잔돈 ==> {a5} 개')"
      ],
      "metadata": {
        "id": "KkT4KtwKLNvx"
      },
      "execution_count": null,
      "outputs": []
    },
    {
      "cell_type": "markdown",
      "metadata": {
        "id": "rCYXIs248GGY"
      },
      "source": [
        "### **[리스트]**"
      ]
    },
    {
      "cell_type": "markdown",
      "source": [
        "- 리스트는 여러 개의 데이터 값을 하나의 변수에 담을 수 있는 데이터 구조\n",
        "- 리스트는 순서(인덱스)가 있고 데이터를 수정, 삭제, 추가 가능하다.\n",
        "- 대괄호로 표현되고 내부 원소는 ,(쉼표)로 구분됨\n",
        "\n",
        "**리스트 생성 & 삭제**"
      ],
      "metadata": {
        "id": "YumGEyjSfPXF"
      }
    },
    {
      "cell_type": "code",
      "source": [],
      "metadata": {
        "id": "labmm659M0pn"
      },
      "execution_count": null,
      "outputs": []
    },
    {
      "cell_type": "code",
      "source": [
        "a = list()\n",
        "a = []\n",
        "a = [1,2,3]\n",
        "a = ['I', 'Love', 'Python']\n",
        "b = [1,2, '사랑해요', 'Python']\n",
        "b = ['a', '1', 1, [2,3], -4]\n",
        "a = [1,2,['a','b',['사랑해', '파이썬']], 3]\n",
        "\n",
        "print(a)\n",
        "print(b)\n"
      ],
      "metadata": {
        "id": "7fDp5hT0fhEx",
        "colab": {
          "base_uri": "https://localhost:8080/"
        },
        "outputId": "ad42b660-8c76-4fab-85e8-2e0792b7da5e"
      },
      "execution_count": null,
      "outputs": [
        {
          "output_type": "stream",
          "name": "stdout",
          "text": [
            "[1, 2, ['a', 'b', ['사랑해', '파이썬']], 3]\n",
            "['a', '1', 1, [2, 3], -4]\n"
          ]
        }
      ]
    },
    {
      "cell_type": "code",
      "source": [
        "list('ab')"
      ],
      "metadata": {
        "colab": {
          "base_uri": "https://localhost:8080/"
        },
        "id": "zGwqnln_NMoe",
        "outputId": "2981d4a4-2c0c-4265-e2ab-fe00e7a1a988"
      },
      "execution_count": null,
      "outputs": [
        {
          "output_type": "execute_result",
          "data": {
            "text/plain": [
              "['a', 'b']"
            ]
          },
          "metadata": {},
          "execution_count": 59
        }
      ]
    },
    {
      "cell_type": "code",
      "source": [
        "# 리스트 삭제\n",
        "del(b)\n",
        "\n",
        "print(a)\n",
        "print(b)"
      ],
      "metadata": {
        "colab": {
          "base_uri": "https://localhost:8080/",
          "height": 237
        },
        "id": "CYl-BBtVNGoS",
        "outputId": "7a5a324d-ce38-42a4-c6f5-37c01ca9d9b0"
      },
      "execution_count": null,
      "outputs": [
        {
          "output_type": "stream",
          "name": "stdout",
          "text": [
            "[1, 2, ['a', 'b', ['사랑해', '파이썬']], 3]\n"
          ]
        },
        {
          "output_type": "error",
          "ename": "NameError",
          "evalue": "ignored",
          "traceback": [
            "\u001b[0;31m---------------------------------------------------------------------------\u001b[0m",
            "\u001b[0;31mNameError\u001b[0m                                 Traceback (most recent call last)",
            "\u001b[0;32m<ipython-input-58-748e0d73be6f>\u001b[0m in \u001b[0;36m<cell line: 5>\u001b[0;34m()\u001b[0m\n\u001b[1;32m      3\u001b[0m \u001b[0;34m\u001b[0m\u001b[0m\n\u001b[1;32m      4\u001b[0m \u001b[0mprint\u001b[0m\u001b[0;34m(\u001b[0m\u001b[0ma\u001b[0m\u001b[0;34m)\u001b[0m\u001b[0;34m\u001b[0m\u001b[0;34m\u001b[0m\u001b[0m\n\u001b[0;32m----> 5\u001b[0;31m \u001b[0mprint\u001b[0m\u001b[0;34m(\u001b[0m\u001b[0mb\u001b[0m\u001b[0;34m)\u001b[0m\u001b[0;34m\u001b[0m\u001b[0;34m\u001b[0m\u001b[0m\n\u001b[0m",
            "\u001b[0;31mNameError\u001b[0m: name 'b' is not defined"
          ]
        }
      ]
    },
    {
      "cell_type": "markdown",
      "source": [
        "**리스트 요소에 접근**"
      ],
      "metadata": {
        "id": "ZDNnr2DrfhbC"
      }
    },
    {
      "cell_type": "code",
      "source": [
        "print(a)\n",
        "print( a[1] )\n",
        "print( a[2] )\n",
        "print( a[2][1])\n",
        "# '파이썬'을 출력하려면?\n",
        "print(a[2])"
      ],
      "metadata": {
        "id": "dE18h8OHfhzH",
        "colab": {
          "base_uri": "https://localhost:8080/"
        },
        "outputId": "bf0535eb-ef3e-439f-80d3-bcadfcd5d28b"
      },
      "execution_count": null,
      "outputs": [
        {
          "output_type": "stream",
          "name": "stdout",
          "text": [
            "[1, 2, ['a', 'b', ['사랑해', '파이썬']], 3]\n",
            "2\n",
            "['a', 'b', ['사랑해', '파이썬']]\n",
            "b\n"
          ]
        }
      ]
    },
    {
      "cell_type": "code",
      "source": [
        "a = [1, 2, ['a', 'b', ['사랑해', '파이썬']], 3]\n",
        "# 파이썬을 출력하려면?\n",
        "print( a[2][2][1] )"
      ],
      "metadata": {
        "colab": {
          "base_uri": "https://localhost:8080/"
        },
        "id": "MekVBA1iOfU9",
        "outputId": "9e8593cd-4cce-49d9-989f-e8ff43618f89"
      },
      "execution_count": null,
      "outputs": [
        {
          "output_type": "stream",
          "name": "stdout",
          "text": [
            "파이썬\n"
          ]
        }
      ]
    },
    {
      "cell_type": "markdown",
      "source": [
        "**리스트 요소 추가 / 변경**"
      ],
      "metadata": {
        "id": "CBiv_U9vfh9l"
      }
    },
    {
      "cell_type": "code",
      "source": [
        "a = ['가을', '여름']\n",
        "print(a)\n",
        "a.append('봄')     # 리스트 맨 끝에 추가\n",
        "print(a)\n",
        "a.insert(1, '봄')  # 리스트명.insert(인덱스위치, 값)\n",
        "print(a)"
      ],
      "metadata": {
        "id": "i4_2rAyrfiGl",
        "colab": {
          "base_uri": "https://localhost:8080/"
        },
        "outputId": "66c2d184-aaa3-4795-fcb9-91ec083befc7"
      },
      "execution_count": null,
      "outputs": [
        {
          "output_type": "stream",
          "name": "stdout",
          "text": [
            "['가을', '여름']\n",
            "['가을', '여름', '봄']\n",
            "['가을', '봄', '여름', '봄']\n"
          ]
        }
      ]
    },
    {
      "cell_type": "markdown",
      "source": [
        "**리스트 요소 삭제**"
      ],
      "metadata": {
        "id": "k211ATQqf5Ol"
      }
    },
    {
      "cell_type": "code",
      "source": [
        "print(a)\n",
        "a.pop()     # 리스트 맨 끝 요소 삭제\n",
        "print(a)\n",
        "a.remove('봄')  # 리스트명.remove(값), 단 여러 개 일 경우 첫 번째만 삭제됨\n",
        "print(a)"
      ],
      "metadata": {
        "id": "jb18botVf5V-",
        "colab": {
          "base_uri": "https://localhost:8080/"
        },
        "outputId": "27d07e64-4688-4007-bb97-ec4f83988648"
      },
      "execution_count": null,
      "outputs": [
        {
          "output_type": "stream",
          "name": "stdout",
          "text": [
            "['가을', '봄', '여름', '봄']\n",
            "['가을', '봄', '여름']\n",
            "['가을', '여름']\n"
          ]
        }
      ]
    },
    {
      "cell_type": "markdown",
      "source": [
        "### **[딕셔너리]**"
      ],
      "metadata": {
        "id": "DTsiTSprfPtQ"
      }
    },
    {
      "cell_type": "code",
      "source": [
        "help(list())"
      ],
      "metadata": {
        "id": "Wvjvbp4VT7uy"
      },
      "execution_count": null,
      "outputs": []
    },
    {
      "cell_type": "markdown",
      "source": [
        "**딕셔너리 키(key)와 값(value)에 접근하기**"
      ],
      "metadata": {
        "id": "n5XA-oqKgARN"
      }
    },
    {
      "cell_type": "code",
      "source": [
        "scores = {'국어': 100, '수학': 90, '영어': 80}\n",
        "\n",
        "print(scores['국어'])  # 딕셔너리는 키로 접근한다.\n",
        "\n",
        "# 방법1\n",
        "print('---방법1---')\n",
        "for key in scores:\n",
        "    print('%s => %s' % (key, scores[key]))\n",
        "\n",
        "# 방법2\n",
        "print('---방법2---')\n",
        "for key, value in scores.items():\n",
        "    print('%s => %s' % (key, value))"
      ],
      "metadata": {
        "id": "JcVVvEfAgA77",
        "colab": {
          "base_uri": "https://localhost:8080/"
        },
        "outputId": "4e65c776-188f-4f7a-f5da-420a2a987ea2"
      },
      "execution_count": null,
      "outputs": [
        {
          "output_type": "stream",
          "name": "stdout",
          "text": [
            "100\n",
            "---방법1---\n",
            "국어 => 100\n",
            "수학 => 90\n",
            "영어 => 80\n",
            "---방법2---\n",
            "국어 => 100\n",
            "수학 => 90\n",
            "영어 => 80\n"
          ]
        }
      ]
    },
    {
      "cell_type": "code",
      "source": [
        "print(scores.keys())   # 키만 추출\n",
        "print(scores.values()) # 값만 추출\n",
        "print(scores.items())  # (키,값)쌍 형태로 추출"
      ],
      "metadata": {
        "id": "yqlgBr22gH_7",
        "colab": {
          "base_uri": "https://localhost:8080/"
        },
        "outputId": "41513617-20a9-4733-d8ab-5fa62b26d767"
      },
      "execution_count": null,
      "outputs": [
        {
          "output_type": "stream",
          "name": "stdout",
          "text": [
            "dict_keys(['국어', '수학', '영어'])\n",
            "dict_values([100, 90, 80])\n",
            "dict_items([('국어', 100), ('수학', 90), ('영어', 80)])\n"
          ]
        }
      ]
    },
    {
      "cell_type": "markdown",
      "source": [
        "**딕셔너리에 요소 추가/수정/삭제**"
      ],
      "metadata": {
        "id": "ZRDlQlqOgBDO"
      }
    },
    {
      "cell_type": "code",
      "source": [
        "# 키로 요소 추가하기\n",
        "scores['music'] = 100\n",
        "print(scores)\n",
        "\n",
        "# 요소 값 수정하기\n",
        "scores['수학'] = 99\n",
        "print(scores)\n",
        "\n",
        "# 요소 삭제하기\n",
        "del(scores['영어'])\n",
        "print(scores)"
      ],
      "metadata": {
        "id": "DVW8BQbAgBKR",
        "colab": {
          "base_uri": "https://localhost:8080/"
        },
        "outputId": "4ab8407c-3076-4f21-f2fd-bd6e2ca6ffa3"
      },
      "execution_count": null,
      "outputs": [
        {
          "output_type": "stream",
          "name": "stdout",
          "text": [
            "{'국어': 100, '수학': 90, '영어': 80, 'music': 100}\n",
            "{'국어': 100, '수학': 99, '영어': 80, 'music': 100}\n",
            "{'국어': 100, '수학': 99, 'music': 100}\n"
          ]
        }
      ]
    },
    {
      "cell_type": "markdown",
      "metadata": {
        "id": "0SWp1LN08GGY"
      },
      "source": [
        "------"
      ]
    },
    {
      "cell_type": "markdown",
      "metadata": {
        "id": "x4FIhV_y8GGZ"
      },
      "source": [
        "### 2-2. 조건문과 반목문으로 흐름 제어하기"
      ]
    },
    {
      "cell_type": "markdown",
      "metadata": {
        "id": "LPe_skHf8GGZ"
      },
      "source": [
        "### **[조건문]**"
      ]
    },
    {
      "cell_type": "markdown",
      "metadata": {
        "id": "Ar6JKwtB8GGZ"
      },
      "source": [
        "#### 실습문제 : 짝수 홀수 판별하기\n",
        "숫자를 입력 받아 짝수/홀수를 판별하는 코드를 만들어 보세요."
      ]
    },
    {
      "cell_type": "code",
      "execution_count": null,
      "metadata": {
        "id": "09w2BCcN8GGZ",
        "outputId": "4bf8e192-bd6e-48c3-cfe3-8db8f4e908b5"
      },
      "outputs": [
        {
          "name": "stdout",
          "output_type": "stream",
          "text": [
            "숫자를 입력해 주세요: 43\n",
            "입력된 수 : 43 ==> 홀수\n"
          ]
        }
      ],
      "source": [
        "x = int(input('숫자를 입력해 주세요: '))\n",
        "\n",
        "if x % 2 == 0:\n",
        "    print('입력된 수 : %d ==> 짝수' % x)\n",
        "else:\n",
        "    print('입력된 수 : %d ==> 홀수' % x)"
      ]
    },
    {
      "cell_type": "markdown",
      "metadata": {
        "id": "kJuobsMS8GGZ"
      },
      "source": [
        "#### 실습문제 : 직각 삼각형 판별하기\n",
        "피타고라스 정리에 의해 직각삼각형의 세 변의 길이에 대한 관계는 아래와 같습니다. 이 정리를 이용하여 세 변의 길이를 입력 받은 삼각형이 직각삼각형인지 아닌지 판별하는 프로그램을 만들어 보세요"
      ]
    },
    {
      "cell_type": "code",
      "execution_count": null,
      "metadata": {
        "id": "YWDF2qmn8GGZ",
        "colab": {
          "base_uri": "https://localhost:8080/"
        },
        "outputId": "6cbc3269-084a-4dd4-d7c6-2cee6e583d30"
      },
      "outputs": [
        {
          "output_type": "stream",
          "name": "stdout",
          "text": [
            "변 a의 길이: 4\n",
            "변 b의 길이: 6\n",
            "빗변 c의 길이: 7\n",
            "------------------------\n",
            "직각삼각형이 아닙니다.\n"
          ]
        }
      ],
      "source": [
        "a = int(input('변 a의 길이: '))\n",
        "b = int(input('변 b의 길이: '))\n",
        "c = int(input('빗변 c의 길이: '))\n",
        "print('------------------------')\n",
        "if (a**2 + b**2) == c**2:\n",
        "    print('직각삼각형입니다.')\n",
        "else:\n",
        "    print('직각삼각형이 아닙니다.')"
      ]
    },
    {
      "cell_type": "markdown",
      "source": [
        "### 실습문제 : 커피 자판기 조건문\n",
        "아래 조건을 만족하는 커피 자동주문 머신을 만들어보세요.<br><br>\n",
        "[커피 자동주문 머신]<br>\n",
        "친구들과 현금 커피 자동주문 머신 앞에서 <br>\n",
        " - 아메리카노 2잔과 카페라테 2잔 카푸치노 1잔을 주문하였다.\n",
        " - 아메리카노 한잔에 2500원이고\n",
        " - 카페라테는 한잔에 3000원\n",
        " - 카푸치노는 한잔에 3000원이다.<br>\n",
        "커피 종류와 잔 수를 결정한 후 <br>현금 15000원을 투입하고 잔돈을 1000원 받았다."
      ],
      "metadata": {
        "id": "3SDdg7Aeg7MW"
      }
    },
    {
      "cell_type": "code",
      "source": [
        "coffee1_price = 2500\n",
        "coffee2_price = 3000\n",
        "coffee3_price = 3000\n",
        "\n",
        "menu = f'''[커피 자동주문 머신 메뉴]\n",
        "-----------------------------------\n",
        "- 아메리카노 한잔 {coffee1_price}원\n",
        "- 카페라테 한잔 {coffee2_price}원\n",
        "- 카푸치노 한잔 {coffee3_price}원\n",
        "원하시는 커피 종류와 잔 수를 입력하세요.\n",
        "-----------------------------------'''\n",
        "print(menu)\n",
        "coffee1=int(input('아메리카노 몇 잔?'))\n",
        "coffee2=int(input('카페라테 몇 잔?'))\n",
        "coffee3=int(input('카푸치노 몇 잔?'))\n",
        "\n",
        "total=coffee1_price*coffee1+coffee2_price*coffee2+coffee3_price*coffee3\n",
        "\n",
        "print(f'지불할 총 금액은{total}원 입니다.')\n",
        "\n",
        "money = int(input('돈을 넣어주세요:'))\n",
        "\n",
        "if money<total:\n",
        "    print(f'금액이 부족합니다.{total-money}원을 더 넣어주세요.')\n",
        "\n",
        "else:\n",
        "    print(f'잔돈은 {money-total} 원 입니다.')\n",
        "    print(\"커피 맛있게 드세요\")"
      ],
      "metadata": {
        "id": "BZlOMJHKg7dN",
        "colab": {
          "base_uri": "https://localhost:8080/"
        },
        "outputId": "93cfabb5-1207-4420-bbe5-8c91eac3b115"
      },
      "execution_count": 4,
      "outputs": [
        {
          "output_type": "stream",
          "name": "stdout",
          "text": [
            "[커피 자동주문 머신 메뉴]\n",
            "-----------------------------------\n",
            "- 아메리카노 한잔 2500원\n",
            "- 카페라테 한잔 3000원\n",
            "- 카푸치노 한잔 3000원\n",
            "원하시는 커피 종류와 잔 수를 입력하세요.\n",
            "-----------------------------------\n",
            "아메리카노 몇 잔?1\n",
            "카페라테 몇 잔?1\n",
            "카푸치노 몇 잔?1\n",
            "지불할 총 금액은8500원 입니다.\n",
            "돈을 넣어주세요:10000\n",
            "잔돈은 1500 원 입니다.\n",
            "커피 맛있게 드세요\n"
          ]
        }
      ]
    },
    {
      "cell_type": "markdown",
      "source": [
        "#### if와 else 문장을 --> elif 문장으로 변환하기"
      ],
      "metadata": {
        "id": "Q31ZlqMchT2f"
      }
    },
    {
      "cell_type": "code",
      "source": [
        "# if, else 문장\n",
        "pocket = ['paper', 'handphone']\n",
        "card = True\n",
        "\n",
        "if 'money' in pocket:\n",
        "    print('택시를 타고 가세요')\n",
        "else:\n",
        "    if card:\n",
        "        print('택시를 타고 가세요')\n",
        "    else:\n",
        "        print('걸어서 가세요')"
      ],
      "metadata": {
        "id": "9m8hAaSMhUId"
      },
      "execution_count": null,
      "outputs": []
    },
    {
      "cell_type": "code",
      "source": [
        "# if elif 문장\n",
        "pocket = ['paper', 'handphone']\n",
        "card = True\n",
        "\n",
        "if 'money' in pocket:\n",
        "    print('택시를 타고 가세요')\n",
        "elif card:\n",
        "    print('택시를 타고 가세요')\n",
        "else:\n",
        "    print('걸어서 가세요')"
      ],
      "metadata": {
        "id": "JGZXfbdNhgJN"
      },
      "execution_count": null,
      "outputs": []
    },
    {
      "cell_type": "markdown",
      "source": [
        "#### 조건부 표현식"
      ],
      "metadata": {
        "id": "Io13oQKLhgph"
      }
    },
    {
      "cell_type": "code",
      "source": [
        "score = int(input('점수를 입력하세요: '))\n",
        "message = \"success!\" if score >=60 else \"failure!\"\n",
        "print(message)"
      ],
      "metadata": {
        "id": "h0V6WqWchnTA",
        "colab": {
          "base_uri": "https://localhost:8080/"
        },
        "outputId": "fb02e08c-bbaa-4e2c-c5e4-18959d736c89"
      },
      "execution_count": 5,
      "outputs": [
        {
          "output_type": "stream",
          "name": "stdout",
          "text": [
            "점수를 입력하세요: 88\n",
            "success!\n"
          ]
        }
      ]
    },
    {
      "cell_type": "code",
      "source": [
        "num=int(input('숫자:'))\n",
        "result=\"짝수\" if num%2==0 else\"홀수\"\n",
        "print(result)"
      ],
      "metadata": {
        "colab": {
          "base_uri": "https://localhost:8080/"
        },
        "id": "N6JTUuvSK1Hb",
        "outputId": "1900bcb2-15e1-4011-acf1-4c3ce9641e8d"
      },
      "execution_count": 6,
      "outputs": [
        {
          "output_type": "stream",
          "name": "stdout",
          "text": [
            "숫자:10\n",
            "짝수\n"
          ]
        }
      ]
    },
    {
      "cell_type": "code",
      "source": [
        "x = int(input('판별할 숫자를 입력하세요: '))\n",
        "print(f'숫자 {x}는 짝수!') if x%2==0 else  print(f'숫자 {x}는 홀수!')"
      ],
      "metadata": {
        "colab": {
          "base_uri": "https://localhost:8080/"
        },
        "id": "EzgOVPDYLspB",
        "outputId": "c93942d0-e8ac-4e4c-f9a0-1c3e7a28b35b"
      },
      "execution_count": 7,
      "outputs": [
        {
          "output_type": "stream",
          "name": "stdout",
          "text": [
            "판별할 숫자를 입력하세요: 125\n",
            "숫자 125는 홀수!\n"
          ]
        }
      ]
    },
    {
      "cell_type": "markdown",
      "metadata": {
        "id": "4RoolGBF8GGa"
      },
      "source": [
        "------"
      ]
    },
    {
      "cell_type": "markdown",
      "metadata": {
        "id": "G2T6Nybt8GGa"
      },
      "source": [
        "### **[반복문-for]**"
      ]
    },
    {
      "cell_type": "code",
      "source": [
        "for i in range(0,3,1): #함수사용\n",
        "    print(f'{i} 안녕하세요')\n",
        "\n"
      ],
      "metadata": {
        "colab": {
          "base_uri": "https://localhost:8080/"
        },
        "id": "FifkhrMXQST5",
        "outputId": "dbc545ec-2290-44ae-9b38-82f737bb5c99"
      },
      "execution_count": 12,
      "outputs": [
        {
          "output_type": "stream",
          "name": "stdout",
          "text": [
            "0 안녕하세요\n",
            "1 안녕하세요\n",
            "2 안녕하세요\n"
          ]
        }
      ]
    },
    {
      "cell_type": "code",
      "source": [
        "for i in range(10,21,2): #정수발생\n",
        "    print(f'{i} 안녕하세요!')"
      ],
      "metadata": {
        "colab": {
          "base_uri": "https://localhost:8080/"
        },
        "id": "s0EjLKElQwM1",
        "outputId": "40a70468-ad93-4838-e2f6-2169c6932d88"
      },
      "execution_count": 11,
      "outputs": [
        {
          "output_type": "stream",
          "name": "stdout",
          "text": [
            "10 안녕하세요!\n",
            "12 안녕하세요!\n",
            "14 안녕하세요!\n",
            "16 안녕하세요!\n",
            "18 안녕하세요!\n",
            "20 안녕하세요!\n"
          ]
        }
      ]
    },
    {
      "cell_type": "code",
      "source": [
        "for i in range(10,-21,-2):\n",
        "    print(f'{i} 안녕하세요!')"
      ],
      "metadata": {
        "colab": {
          "base_uri": "https://localhost:8080/"
        },
        "id": "XWIyDNzxREGJ",
        "outputId": "929b8c4c-babc-4ac3-fc6a-819e92e78192"
      },
      "execution_count": 15,
      "outputs": [
        {
          "output_type": "stream",
          "name": "stdout",
          "text": [
            "10 안녕하세요!\n",
            "8 안녕하세요!\n",
            "6 안녕하세요!\n",
            "4 안녕하세요!\n",
            "2 안녕하세요!\n",
            "0 안녕하세요!\n",
            "-2 안녕하세요!\n",
            "-4 안녕하세요!\n",
            "-6 안녕하세요!\n",
            "-8 안녕하세요!\n",
            "-10 안녕하세요!\n",
            "-12 안녕하세요!\n",
            "-14 안녕하세요!\n",
            "-16 안녕하세요!\n",
            "-18 안녕하세요!\n",
            "-20 안녕하세요!\n"
          ]
        }
      ]
    },
    {
      "cell_type": "code",
      "source": [
        "a='오렌지' #문자열 사용\n",
        "for x in a:\n",
        "    print(x)"
      ],
      "metadata": {
        "colab": {
          "base_uri": "https://localhost:8080/"
        },
        "id": "hVqB_mDcRTxU",
        "outputId": "9284d26f-29e8-4b97-eb55-8bbcaa0f5fff"
      },
      "execution_count": 16,
      "outputs": [
        {
          "output_type": "stream",
          "name": "stdout",
          "text": [
            "오\n",
            "렌\n",
            "지\n"
          ]
        }
      ]
    },
    {
      "cell_type": "code",
      "source": [
        "# enumerate(): 인덱스 정보를 준다\n",
        "a=['사과','배','포도','샤인머스켓']\n",
        "for idx,x in enumerate(a): #리스트 사용\n",
        "    print(f'{idx} 내가 좋아하는 과일은{x}')"
      ],
      "metadata": {
        "colab": {
          "base_uri": "https://localhost:8080/"
        },
        "id": "sg-6XSCSRwju",
        "outputId": "adafd270-166c-41b3-f953-84e7fc6de36e"
      },
      "execution_count": 20,
      "outputs": [
        {
          "output_type": "stream",
          "name": "stdout",
          "text": [
            "0 내가 좋아하는 과일은사과\n",
            "1 내가 좋아하는 과일은배\n",
            "2 내가 좋아하는 과일은포도\n",
            "3 내가 좋아하는 과일은샤인머스켓\n"
          ]
        }
      ]
    },
    {
      "cell_type": "markdown",
      "metadata": {
        "id": "HuWJNA-T8GGa"
      },
      "source": [
        "#### 실습문제 : 1~N까지 합계 구하기\n",
        "숫자를 입력받아 1~n까지의 합을 구할 때 짝수를 제외하고 합을 구하는 프로그램을 만들어 보세요."
      ]
    },
    {
      "cell_type": "code",
      "execution_count": 21,
      "metadata": {
        "id": "t4NbQOOe8GGa",
        "colab": {
          "base_uri": "https://localhost:8080/"
        },
        "outputId": "8b030c3a-e6cb-4b4e-d1dc-d5782654e316"
      },
      "outputs": [
        {
          "output_type": "stream",
          "name": "stdout",
          "text": [
            "숫자입력:10\n",
            "11\n",
            "21\n",
            "34\n",
            "44\n",
            "59\n",
            "69\n",
            "716\n",
            "816\n",
            "925\n",
            "1025\n",
            "1~10까지 짝수를 제외한 합은:25\n"
          ]
        }
      ],
      "source": [
        "n=int(input('숫자입력:'))#방법1\n",
        "hap=0\n",
        "\n",
        "for i in range(1,n+1):\n",
        "    if i %2 !=0:\n",
        "        hap+=i\n",
        "    print(f'{i}{hap}')\n",
        "print(f'1~{n}까지 짝수를 제외한 합은:{hap}')\n",
        "\n"
      ]
    },
    {
      "cell_type": "code",
      "source": [
        "n=int(input('숫자입력:'))#방법2\n",
        "hap=0\n",
        "\n",
        "for i in range(1,n+1,1):\n",
        "    if i %2 ==0:\n",
        "        continue\n",
        "    hap+=i\n",
        "    print(f'{i}{hap}')\n",
        "print(f'1~{n}까지 짝수를 제외한 합은:{hap}')"
      ],
      "metadata": {
        "colab": {
          "base_uri": "https://localhost:8080/"
        },
        "id": "T5jjor5dXavb",
        "outputId": "2e5f7ea3-5164-4fd5-b7d5-ea1637f2e3f7"
      },
      "execution_count": 24,
      "outputs": [
        {
          "output_type": "stream",
          "name": "stdout",
          "text": [
            "숫자입력:10\n",
            "11\n",
            "34\n",
            "59\n",
            "716\n",
            "925\n",
            "1~10까지 짝수를 제외한 합은:25\n"
          ]
        }
      ]
    },
    {
      "cell_type": "code",
      "source": [
        "!pip install ColabTurtle"
      ],
      "metadata": {
        "colab": {
          "base_uri": "https://localhost:8080/"
        },
        "id": "v7aJ7ftcdNfT",
        "outputId": "5560a47b-9f59-401a-8744-5551f3131e55"
      },
      "execution_count": 25,
      "outputs": [
        {
          "output_type": "stream",
          "name": "stdout",
          "text": [
            "Collecting ColabTurtle\n",
            "  Downloading ColabTurtle-2.1.0.tar.gz (6.8 kB)\n",
            "  Preparing metadata (setup.py) ... \u001b[?25l\u001b[?25hdone\n",
            "Building wheels for collected packages: ColabTurtle\n",
            "  Building wheel for ColabTurtle (setup.py) ... \u001b[?25l\u001b[?25hdone\n",
            "  Created wheel for ColabTurtle: filename=ColabTurtle-2.1.0-py3-none-any.whl size=7641 sha256=9a87133bbe6a7de2bbd48b756f552a4bc5804a11b28becf2134a139b61482c51\n",
            "  Stored in directory: /root/.cache/pip/wheels/5b/86/e8/54f5c8c853606e3a3060bb2e60363cbed632374a12e0f33ffc\n",
            "Successfully built ColabTurtle\n",
            "Installing collected packages: ColabTurtle\n",
            "Successfully installed ColabTurtle-2.1.0\n"
          ]
        }
      ]
    },
    {
      "cell_type": "code",
      "source": [],
      "metadata": {
        "id": "CICkHYKBeGYl"
      },
      "execution_count": null,
      "outputs": []
    },
    {
      "cell_type": "code",
      "source": [
        "from ColabTurtle.Turtle import*"
      ],
      "metadata": {
        "id": "cvyPOkrKdVJn"
      },
      "execution_count": 29,
      "outputs": []
    },
    {
      "cell_type": "code",
      "source": [
        "initializeTurtle()"
      ],
      "metadata": {
        "colab": {
          "base_uri": "https://localhost:8080/",
          "height": 520
        },
        "id": "dfJQ4PqUeHS1",
        "outputId": "c5af26f4-9c4d-4e5f-ef6f-8583931ef9c8"
      },
      "execution_count": 30,
      "outputs": [
        {
          "output_type": "display_data",
          "data": {
            "text/plain": [
              "<IPython.core.display.HTML object>"
            ],
            "text/html": [
              "\n",
              "      <svg width=\"800\" height=\"500\">\n",
              "        <rect width=\"100%\" height=\"100%\" fill=\"black\"/>\n",
              "        \n",
              "        <g visibility=visible transform=\"rotate(360,400,250) translate(382, 232)\">\n",
              "<path style=\" stroke:none;fill-rule:evenodd;fill:white;fill-opacity:1;\" d=\"M 18.214844 0.632812 C 16.109375 1.800781 15.011719 4.074219 15.074219 7.132812 L 15.085938 7.652344 L 14.785156 7.496094 C 13.476562 6.824219 11.957031 6.671875 10.40625 7.066406 C 8.46875 7.550781 6.515625 9.15625 4.394531 11.992188 C 3.0625 13.777344 2.679688 14.636719 3.042969 15.027344 L 3.15625 15.152344 L 3.519531 15.152344 C 4.238281 15.152344 4.828125 14.886719 8.1875 13.039062 C 9.386719 12.378906 10.371094 11.839844 10.378906 11.839844 C 10.386719 11.839844 10.355469 11.929688 10.304688 12.035156 C 9.832031 13.09375 9.257812 14.820312 8.96875 16.078125 C 7.914062 20.652344 8.617188 24.53125 11.070312 27.660156 C 11.351562 28.015625 11.363281 27.914062 10.972656 28.382812 C 8.925781 30.84375 7.945312 33.28125 8.238281 35.1875 C 8.289062 35.527344 8.28125 35.523438 8.917969 35.523438 C 10.941406 35.523438 13.074219 34.207031 15.136719 31.6875 C 15.359375 31.417969 15.328125 31.425781 15.5625 31.574219 C 16.292969 32.042969 18.023438 32.964844 18.175781 32.964844 C 18.335938 32.964844 19.941406 32.210938 20.828125 31.71875 C 20.996094 31.625 21.136719 31.554688 21.136719 31.558594 C 21.203125 31.664062 21.898438 32.414062 22.222656 32.730469 C 23.835938 34.300781 25.5625 35.132812 27.582031 35.300781 C 27.90625 35.328125 27.9375 35.308594 28.007812 34.984375 C 28.382812 33.242188 27.625 30.925781 25.863281 28.425781 L 25.542969 27.96875 L 25.699219 27.785156 C 28.945312 23.960938 29.132812 18.699219 26.257812 11.96875 L 26.207031 11.84375 L 27.945312 12.703125 C 31.53125 14.476562 32.316406 14.800781 33.03125 14.800781 C 33.976562 14.800781 33.78125 13.9375 32.472656 12.292969 C 28.519531 7.355469 25.394531 5.925781 21.921875 7.472656 L 21.558594 7.636719 L 21.578125 7.542969 C 21.699219 6.992188 21.761719 5.742188 21.699219 5.164062 C 21.496094 3.296875 20.664062 1.964844 19.003906 0.855469 C 18.480469 0.503906 18.457031 0.5 18.214844 0.632812\"/>\n",
              "</g>\n",
              "      </svg>\n",
              "    "
            ]
          },
          "metadata": {}
        }
      ]
    },
    {
      "cell_type": "code",
      "source": [
        "for i in range(10):\n",
        "  print(\"hi\")"
      ],
      "metadata": {
        "colab": {
          "base_uri": "https://localhost:8080/"
        },
        "id": "320gB8xYeMaT",
        "outputId": "6757a018-c3f6-456a-c20d-90b7bdc00cb0"
      },
      "execution_count": 31,
      "outputs": [
        {
          "output_type": "stream",
          "name": "stdout",
          "text": [
            "hi\n",
            "hi\n",
            "hi\n",
            "hi\n",
            "hi\n",
            "hi\n",
            "hi\n",
            "hi\n",
            "hi\n",
            "hi\n"
          ]
        }
      ]
    },
    {
      "cell_type": "code",
      "source": [
        "side_length = 100\n",
        "angle = 360/4\n",
        "\n",
        "for i in range(4):\n",
        "  forward(side_length)\n",
        "  right(angle)"
      ],
      "metadata": {
        "colab": {
          "base_uri": "https://localhost:8080/",
          "height": 520
        },
        "id": "SEr1bThLeWMT",
        "outputId": "15e36c14-862f-4f08-cc25-9bf5010f9d3e"
      },
      "execution_count": 33,
      "outputs": [
        {
          "output_type": "display_data",
          "data": {
            "text/plain": [
              "<IPython.core.display.HTML object>"
            ],
            "text/html": [
              "\n",
              "      <svg width=\"800\" height=\"500\">\n",
              "        <rect width=\"100%\" height=\"100%\" fill=\"black\"/>\n",
              "        <line x1=\"400\" y1=\"250\" x2=\"400.0\" y2=\"150.0\" stroke-linecap=\"round\" style=\"stroke:white;stroke-width:4\"/><line x1=\"400.0\" y1=\"150.0\" x2=\"500.0\" y2=\"150.0\" stroke-linecap=\"round\" style=\"stroke:white;stroke-width:4\"/><line x1=\"500.0\" y1=\"150.0\" x2=\"500.0\" y2=\"250.0\" stroke-linecap=\"round\" style=\"stroke:white;stroke-width:4\"/><line x1=\"500.0\" y1=\"250.0\" x2=\"400.0\" y2=\"250.0\" stroke-linecap=\"round\" style=\"stroke:white;stroke-width:4\"/>\n",
              "        <g visibility=visible transform=\"rotate(360.0,400.0,250.0) translate(382.0, 232.0)\">\n",
              "<path style=\" stroke:none;fill-rule:evenodd;fill:white;fill-opacity:1;\" d=\"M 18.214844 0.632812 C 16.109375 1.800781 15.011719 4.074219 15.074219 7.132812 L 15.085938 7.652344 L 14.785156 7.496094 C 13.476562 6.824219 11.957031 6.671875 10.40625 7.066406 C 8.46875 7.550781 6.515625 9.15625 4.394531 11.992188 C 3.0625 13.777344 2.679688 14.636719 3.042969 15.027344 L 3.15625 15.152344 L 3.519531 15.152344 C 4.238281 15.152344 4.828125 14.886719 8.1875 13.039062 C 9.386719 12.378906 10.371094 11.839844 10.378906 11.839844 C 10.386719 11.839844 10.355469 11.929688 10.304688 12.035156 C 9.832031 13.09375 9.257812 14.820312 8.96875 16.078125 C 7.914062 20.652344 8.617188 24.53125 11.070312 27.660156 C 11.351562 28.015625 11.363281 27.914062 10.972656 28.382812 C 8.925781 30.84375 7.945312 33.28125 8.238281 35.1875 C 8.289062 35.527344 8.28125 35.523438 8.917969 35.523438 C 10.941406 35.523438 13.074219 34.207031 15.136719 31.6875 C 15.359375 31.417969 15.328125 31.425781 15.5625 31.574219 C 16.292969 32.042969 18.023438 32.964844 18.175781 32.964844 C 18.335938 32.964844 19.941406 32.210938 20.828125 31.71875 C 20.996094 31.625 21.136719 31.554688 21.136719 31.558594 C 21.203125 31.664062 21.898438 32.414062 22.222656 32.730469 C 23.835938 34.300781 25.5625 35.132812 27.582031 35.300781 C 27.90625 35.328125 27.9375 35.308594 28.007812 34.984375 C 28.382812 33.242188 27.625 30.925781 25.863281 28.425781 L 25.542969 27.96875 L 25.699219 27.785156 C 28.945312 23.960938 29.132812 18.699219 26.257812 11.96875 L 26.207031 11.84375 L 27.945312 12.703125 C 31.53125 14.476562 32.316406 14.800781 33.03125 14.800781 C 33.976562 14.800781 33.78125 13.9375 32.472656 12.292969 C 28.519531 7.355469 25.394531 5.925781 21.921875 7.472656 L 21.558594 7.636719 L 21.578125 7.542969 C 21.699219 6.992188 21.761719 5.742188 21.699219 5.164062 C 21.496094 3.296875 20.664062 1.964844 19.003906 0.855469 C 18.480469 0.503906 18.457031 0.5 18.214844 0.632812\"/>\n",
              "</g>\n",
              "      </svg>\n",
              "    "
            ]
          },
          "metadata": {}
        }
      ]
    },
    {
      "cell_type": "code",
      "source": [
        "side_length = 100\n",
        "angle = 360/4\n",
        "num_sides = 0\n",
        "\n",
        "for i in range(4):\n",
        "  forward(side_length)\n",
        "  right(angle)"
      ],
      "metadata": {
        "colab": {
          "base_uri": "https://localhost:8080/",
          "height": 520
        },
        "id": "UJG-NoDrecXD",
        "outputId": "cc77ce1f-49f1-43b5-d1bb-7c6912af2de1"
      },
      "execution_count": 34,
      "outputs": [
        {
          "output_type": "display_data",
          "data": {
            "text/plain": [
              "<IPython.core.display.HTML object>"
            ],
            "text/html": [
              "\n",
              "      <svg width=\"800\" height=\"500\">\n",
              "        <rect width=\"100%\" height=\"100%\" fill=\"black\"/>\n",
              "        <line x1=\"400\" y1=\"250\" x2=\"400.0\" y2=\"150.0\" stroke-linecap=\"round\" style=\"stroke:white;stroke-width:4\"/><line x1=\"400.0\" y1=\"150.0\" x2=\"500.0\" y2=\"150.0\" stroke-linecap=\"round\" style=\"stroke:white;stroke-width:4\"/><line x1=\"500.0\" y1=\"150.0\" x2=\"500.0\" y2=\"250.0\" stroke-linecap=\"round\" style=\"stroke:white;stroke-width:4\"/><line x1=\"500.0\" y1=\"250.0\" x2=\"400.0\" y2=\"250.0\" stroke-linecap=\"round\" style=\"stroke:white;stroke-width:4\"/><line x1=\"400.0\" y1=\"250.0\" x2=\"400.0\" y2=\"150.0\" stroke-linecap=\"round\" style=\"stroke:white;stroke-width:4\"/><line x1=\"400.0\" y1=\"150.0\" x2=\"500.0\" y2=\"150.0\" stroke-linecap=\"round\" style=\"stroke:white;stroke-width:4\"/><line x1=\"500.0\" y1=\"150.0\" x2=\"500.0\" y2=\"250.0\" stroke-linecap=\"round\" style=\"stroke:white;stroke-width:4\"/><line x1=\"500.0\" y1=\"250.0\" x2=\"400.0\" y2=\"250.0\" stroke-linecap=\"round\" style=\"stroke:white;stroke-width:4\"/>\n",
              "        <g visibility=visible transform=\"rotate(360.0,400.0,250.0) translate(382.0, 232.0)\">\n",
              "<path style=\" stroke:none;fill-rule:evenodd;fill:white;fill-opacity:1;\" d=\"M 18.214844 0.632812 C 16.109375 1.800781 15.011719 4.074219 15.074219 7.132812 L 15.085938 7.652344 L 14.785156 7.496094 C 13.476562 6.824219 11.957031 6.671875 10.40625 7.066406 C 8.46875 7.550781 6.515625 9.15625 4.394531 11.992188 C 3.0625 13.777344 2.679688 14.636719 3.042969 15.027344 L 3.15625 15.152344 L 3.519531 15.152344 C 4.238281 15.152344 4.828125 14.886719 8.1875 13.039062 C 9.386719 12.378906 10.371094 11.839844 10.378906 11.839844 C 10.386719 11.839844 10.355469 11.929688 10.304688 12.035156 C 9.832031 13.09375 9.257812 14.820312 8.96875 16.078125 C 7.914062 20.652344 8.617188 24.53125 11.070312 27.660156 C 11.351562 28.015625 11.363281 27.914062 10.972656 28.382812 C 8.925781 30.84375 7.945312 33.28125 8.238281 35.1875 C 8.289062 35.527344 8.28125 35.523438 8.917969 35.523438 C 10.941406 35.523438 13.074219 34.207031 15.136719 31.6875 C 15.359375 31.417969 15.328125 31.425781 15.5625 31.574219 C 16.292969 32.042969 18.023438 32.964844 18.175781 32.964844 C 18.335938 32.964844 19.941406 32.210938 20.828125 31.71875 C 20.996094 31.625 21.136719 31.554688 21.136719 31.558594 C 21.203125 31.664062 21.898438 32.414062 22.222656 32.730469 C 23.835938 34.300781 25.5625 35.132812 27.582031 35.300781 C 27.90625 35.328125 27.9375 35.308594 28.007812 34.984375 C 28.382812 33.242188 27.625 30.925781 25.863281 28.425781 L 25.542969 27.96875 L 25.699219 27.785156 C 28.945312 23.960938 29.132812 18.699219 26.257812 11.96875 L 26.207031 11.84375 L 27.945312 12.703125 C 31.53125 14.476562 32.316406 14.800781 33.03125 14.800781 C 33.976562 14.800781 33.78125 13.9375 32.472656 12.292969 C 28.519531 7.355469 25.394531 5.925781 21.921875 7.472656 L 21.558594 7.636719 L 21.578125 7.542969 C 21.699219 6.992188 21.761719 5.742188 21.699219 5.164062 C 21.496094 3.296875 20.664062 1.964844 19.003906 0.855469 C 18.480469 0.503906 18.457031 0.5 18.214844 0.632812\"/>\n",
              "</g>\n",
              "      </svg>\n",
              "    "
            ]
          },
          "metadata": {}
        }
      ]
    },
    {
      "cell_type": "markdown",
      "source": [
        "### [실습문제] turtle로 정오각형 그리기\n",
        "#### 주의! : turtle은 가능한 IDLE 또는 에디터에서 사용한다.\n",
        "Turtle 이용해서 정오각형을 그리는 코드이다. 이것을 for 반복문을 이용하여 코드를 줄여보세요."
      ],
      "metadata": {
        "id": "h93aJfzOiJEc"
      }
    },
    {
      "cell_type": "code",
      "source": [
        "import turtle\n",
        "\n",
        "t=turtle.Pen()    # 펜블럭\n",
        "# t.shape('turtle') # 커서 모양\n",
        "# t.color('red')    # 선 색생\n",
        "# t.pensize(5)      # 선 굵기\n",
        "\n",
        "t.forward(100)\n",
        "t.right(72)\n",
        "t.forward(100)\n",
        "t.right(72)\n",
        "t.forward(100)\n",
        "t.right(72)\n",
        "t.forward(100)\n",
        "t.right(72)\n",
        "t.forward(100)\n",
        "t.right(72)\n",
        "\n",
        "turtle.exitonclick()"
      ],
      "metadata": {
        "id": "Qb9JdImXiJQ8",
        "colab": {
          "base_uri": "https://localhost:8080/",
          "height": 406
        },
        "outputId": "ef3b5d2f-01bf-4539-8c32-e031222fa8a3"
      },
      "execution_count": 32,
      "outputs": [
        {
          "output_type": "error",
          "ename": "TclError",
          "evalue": "ignored",
          "traceback": [
            "\u001b[0;31m---------------------------------------------------------------------------\u001b[0m",
            "\u001b[0;31mTclError\u001b[0m                                  Traceback (most recent call last)",
            "\u001b[0;32m<ipython-input-32-f4a5269225d4>\u001b[0m in \u001b[0;36m<cell line: 3>\u001b[0;34m()\u001b[0m\n\u001b[1;32m      1\u001b[0m \u001b[0;32mimport\u001b[0m \u001b[0mturtle\u001b[0m\u001b[0;34m\u001b[0m\u001b[0;34m\u001b[0m\u001b[0m\n\u001b[1;32m      2\u001b[0m \u001b[0;34m\u001b[0m\u001b[0m\n\u001b[0;32m----> 3\u001b[0;31m \u001b[0mt\u001b[0m\u001b[0;34m=\u001b[0m\u001b[0mturtle\u001b[0m\u001b[0;34m.\u001b[0m\u001b[0mPen\u001b[0m\u001b[0;34m(\u001b[0m\u001b[0;34m)\u001b[0m    \u001b[0;31m# 펜블럭\u001b[0m\u001b[0;34m\u001b[0m\u001b[0;34m\u001b[0m\u001b[0m\n\u001b[0m\u001b[1;32m      4\u001b[0m \u001b[0;31m# t.shape('turtle') # 커서 모양\u001b[0m\u001b[0;34m\u001b[0m\u001b[0;34m\u001b[0m\u001b[0m\n\u001b[1;32m      5\u001b[0m \u001b[0;31m# t.color('red')    # 선 색생\u001b[0m\u001b[0;34m\u001b[0m\u001b[0;34m\u001b[0m\u001b[0m\n",
            "\u001b[0;32m/usr/lib/python3.10/turtle.py\u001b[0m in \u001b[0;36m__init__\u001b[0;34m(self, shape, undobuffersize, visible)\u001b[0m\n\u001b[1;32m   3812\u001b[0m                  visible=_CFG[\"visible\"]):\n\u001b[1;32m   3813\u001b[0m         \u001b[0;32mif\u001b[0m \u001b[0mTurtle\u001b[0m\u001b[0;34m.\u001b[0m\u001b[0m_screen\u001b[0m \u001b[0;32mis\u001b[0m \u001b[0;32mNone\u001b[0m\u001b[0;34m:\u001b[0m\u001b[0;34m\u001b[0m\u001b[0;34m\u001b[0m\u001b[0m\n\u001b[0;32m-> 3814\u001b[0;31m             \u001b[0mTurtle\u001b[0m\u001b[0;34m.\u001b[0m\u001b[0m_screen\u001b[0m \u001b[0;34m=\u001b[0m \u001b[0mScreen\u001b[0m\u001b[0;34m(\u001b[0m\u001b[0;34m)\u001b[0m\u001b[0;34m\u001b[0m\u001b[0;34m\u001b[0m\u001b[0m\n\u001b[0m\u001b[1;32m   3815\u001b[0m         RawTurtle.__init__(self, Turtle._screen,\n\u001b[1;32m   3816\u001b[0m                            \u001b[0mshape\u001b[0m\u001b[0;34m=\u001b[0m\u001b[0mshape\u001b[0m\u001b[0;34m,\u001b[0m\u001b[0;34m\u001b[0m\u001b[0;34m\u001b[0m\u001b[0m\n",
            "\u001b[0;32m/usr/lib/python3.10/turtle.py\u001b[0m in \u001b[0;36mScreen\u001b[0;34m()\u001b[0m\n\u001b[1;32m   3662\u001b[0m     else return the existing one.\"\"\"\n\u001b[1;32m   3663\u001b[0m     \u001b[0;32mif\u001b[0m \u001b[0mTurtle\u001b[0m\u001b[0;34m.\u001b[0m\u001b[0m_screen\u001b[0m \u001b[0;32mis\u001b[0m \u001b[0;32mNone\u001b[0m\u001b[0;34m:\u001b[0m\u001b[0;34m\u001b[0m\u001b[0;34m\u001b[0m\u001b[0m\n\u001b[0;32m-> 3664\u001b[0;31m         \u001b[0mTurtle\u001b[0m\u001b[0;34m.\u001b[0m\u001b[0m_screen\u001b[0m \u001b[0;34m=\u001b[0m \u001b[0m_Screen\u001b[0m\u001b[0;34m(\u001b[0m\u001b[0;34m)\u001b[0m\u001b[0;34m\u001b[0m\u001b[0;34m\u001b[0m\u001b[0m\n\u001b[0m\u001b[1;32m   3665\u001b[0m     \u001b[0;32mreturn\u001b[0m \u001b[0mTurtle\u001b[0m\u001b[0;34m.\u001b[0m\u001b[0m_screen\u001b[0m\u001b[0;34m\u001b[0m\u001b[0;34m\u001b[0m\u001b[0m\n\u001b[1;32m   3666\u001b[0m \u001b[0;34m\u001b[0m\u001b[0m\n",
            "\u001b[0;32m/usr/lib/python3.10/turtle.py\u001b[0m in \u001b[0;36m__init__\u001b[0;34m(self)\u001b[0m\n\u001b[1;32m   3678\u001b[0m         \u001b[0;31m# preserved (perhaps by passing it as an optional parameter)\u001b[0m\u001b[0;34m\u001b[0m\u001b[0;34m\u001b[0m\u001b[0m\n\u001b[1;32m   3679\u001b[0m         \u001b[0;32mif\u001b[0m \u001b[0m_Screen\u001b[0m\u001b[0;34m.\u001b[0m\u001b[0m_root\u001b[0m \u001b[0;32mis\u001b[0m \u001b[0;32mNone\u001b[0m\u001b[0;34m:\u001b[0m\u001b[0;34m\u001b[0m\u001b[0;34m\u001b[0m\u001b[0m\n\u001b[0;32m-> 3680\u001b[0;31m             \u001b[0m_Screen\u001b[0m\u001b[0;34m.\u001b[0m\u001b[0m_root\u001b[0m \u001b[0;34m=\u001b[0m \u001b[0mself\u001b[0m\u001b[0;34m.\u001b[0m\u001b[0m_root\u001b[0m \u001b[0;34m=\u001b[0m \u001b[0m_Root\u001b[0m\u001b[0;34m(\u001b[0m\u001b[0;34m)\u001b[0m\u001b[0;34m\u001b[0m\u001b[0;34m\u001b[0m\u001b[0m\n\u001b[0m\u001b[1;32m   3681\u001b[0m             \u001b[0mself\u001b[0m\u001b[0;34m.\u001b[0m\u001b[0m_root\u001b[0m\u001b[0;34m.\u001b[0m\u001b[0mtitle\u001b[0m\u001b[0;34m(\u001b[0m\u001b[0m_Screen\u001b[0m\u001b[0;34m.\u001b[0m\u001b[0m_title\u001b[0m\u001b[0;34m)\u001b[0m\u001b[0;34m\u001b[0m\u001b[0;34m\u001b[0m\u001b[0m\n\u001b[1;32m   3682\u001b[0m             \u001b[0mself\u001b[0m\u001b[0;34m.\u001b[0m\u001b[0m_root\u001b[0m\u001b[0;34m.\u001b[0m\u001b[0mondestroy\u001b[0m\u001b[0;34m(\u001b[0m\u001b[0mself\u001b[0m\u001b[0;34m.\u001b[0m\u001b[0m_destroy\u001b[0m\u001b[0;34m)\u001b[0m\u001b[0;34m\u001b[0m\u001b[0;34m\u001b[0m\u001b[0m\n",
            "\u001b[0;32m/usr/lib/python3.10/turtle.py\u001b[0m in \u001b[0;36m__init__\u001b[0;34m(self)\u001b[0m\n\u001b[1;32m    433\u001b[0m     \u001b[0;34m\"\"\"Root class for Screen based on Tkinter.\"\"\"\u001b[0m\u001b[0;34m\u001b[0m\u001b[0;34m\u001b[0m\u001b[0m\n\u001b[1;32m    434\u001b[0m     \u001b[0;32mdef\u001b[0m \u001b[0m__init__\u001b[0m\u001b[0;34m(\u001b[0m\u001b[0mself\u001b[0m\u001b[0;34m)\u001b[0m\u001b[0;34m:\u001b[0m\u001b[0;34m\u001b[0m\u001b[0;34m\u001b[0m\u001b[0m\n\u001b[0;32m--> 435\u001b[0;31m         \u001b[0mTK\u001b[0m\u001b[0;34m.\u001b[0m\u001b[0mTk\u001b[0m\u001b[0;34m.\u001b[0m\u001b[0m__init__\u001b[0m\u001b[0;34m(\u001b[0m\u001b[0mself\u001b[0m\u001b[0;34m)\u001b[0m\u001b[0;34m\u001b[0m\u001b[0;34m\u001b[0m\u001b[0m\n\u001b[0m\u001b[1;32m    436\u001b[0m \u001b[0;34m\u001b[0m\u001b[0m\n\u001b[1;32m    437\u001b[0m     \u001b[0;32mdef\u001b[0m \u001b[0msetupcanvas\u001b[0m\u001b[0;34m(\u001b[0m\u001b[0mself\u001b[0m\u001b[0;34m,\u001b[0m \u001b[0mwidth\u001b[0m\u001b[0;34m,\u001b[0m \u001b[0mheight\u001b[0m\u001b[0;34m,\u001b[0m \u001b[0mcwidth\u001b[0m\u001b[0;34m,\u001b[0m \u001b[0mcheight\u001b[0m\u001b[0;34m)\u001b[0m\u001b[0;34m:\u001b[0m\u001b[0;34m\u001b[0m\u001b[0;34m\u001b[0m\u001b[0m\n",
            "\u001b[0;32m/usr/lib/python3.10/tkinter/__init__.py\u001b[0m in \u001b[0;36m__init__\u001b[0;34m(self, screenName, baseName, className, useTk, sync, use)\u001b[0m\n\u001b[1;32m   2297\u001b[0m                 \u001b[0mbaseName\u001b[0m \u001b[0;34m=\u001b[0m \u001b[0mbaseName\u001b[0m \u001b[0;34m+\u001b[0m \u001b[0mext\u001b[0m\u001b[0;34m\u001b[0m\u001b[0;34m\u001b[0m\u001b[0m\n\u001b[1;32m   2298\u001b[0m         \u001b[0minteractive\u001b[0m \u001b[0;34m=\u001b[0m \u001b[0;32mFalse\u001b[0m\u001b[0;34m\u001b[0m\u001b[0;34m\u001b[0m\u001b[0m\n\u001b[0;32m-> 2299\u001b[0;31m         \u001b[0mself\u001b[0m\u001b[0;34m.\u001b[0m\u001b[0mtk\u001b[0m \u001b[0;34m=\u001b[0m \u001b[0m_tkinter\u001b[0m\u001b[0;34m.\u001b[0m\u001b[0mcreate\u001b[0m\u001b[0;34m(\u001b[0m\u001b[0mscreenName\u001b[0m\u001b[0;34m,\u001b[0m \u001b[0mbaseName\u001b[0m\u001b[0;34m,\u001b[0m \u001b[0mclassName\u001b[0m\u001b[0;34m,\u001b[0m \u001b[0minteractive\u001b[0m\u001b[0;34m,\u001b[0m \u001b[0mwantobjects\u001b[0m\u001b[0;34m,\u001b[0m \u001b[0museTk\u001b[0m\u001b[0;34m,\u001b[0m \u001b[0msync\u001b[0m\u001b[0;34m,\u001b[0m \u001b[0muse\u001b[0m\u001b[0;34m)\u001b[0m\u001b[0;34m\u001b[0m\u001b[0;34m\u001b[0m\u001b[0m\n\u001b[0m\u001b[1;32m   2300\u001b[0m         \u001b[0;32mif\u001b[0m \u001b[0museTk\u001b[0m\u001b[0;34m:\u001b[0m\u001b[0;34m\u001b[0m\u001b[0;34m\u001b[0m\u001b[0m\n\u001b[1;32m   2301\u001b[0m             \u001b[0mself\u001b[0m\u001b[0;34m.\u001b[0m\u001b[0m_loadtk\u001b[0m\u001b[0;34m(\u001b[0m\u001b[0;34m)\u001b[0m\u001b[0;34m\u001b[0m\u001b[0;34m\u001b[0m\u001b[0m\n",
            "\u001b[0;31mTclError\u001b[0m: no display name and no $DISPLAY environment variable"
          ]
        }
      ]
    },
    {
      "cell_type": "code",
      "source": [
        "import turtle\n",
        "\n",
        "t=turtle.Pen()    # 펜블럭\n",
        "\n",
        "t.shape('turtle') # 커서 모양\n",
        "t.color('blue')    # 선 색생\n",
        "t.pensize(5)      # 선 굵기\n",
        "\n",
        "for i in range(5):\n",
        "    t.forward(100)\n",
        "    t.right(360/5)\n",
        "\n",
        "turtle.exitonclick()"
      ],
      "metadata": {
        "id": "NvZvK4qiiQCS"
      },
      "execution_count": null,
      "outputs": []
    },
    {
      "cell_type": "code",
      "source": [
        "#벌집 그리기\n",
        "import turtle\n",
        "\n",
        "t=turtle.Turtle()\n",
        "# t.up()\n",
        "# t.goto(-30, 50)\n",
        "# t.down()\n",
        "\n",
        "def honeycomb(): # 벌집 그리기\n",
        "    for i in range(6):\n",
        "        for _ in range(6):\n",
        "            t.forward(100)\n",
        "            t.left(60)\n",
        "        t.forward(100)\n",
        "        t.right(60)\n",
        "\n",
        "honeycomb()\n",
        "turtle.exitonclick()"
      ],
      "metadata": {
        "id": "yB44V9CfiTUa"
      },
      "execution_count": null,
      "outputs": []
    },
    {
      "cell_type": "code",
      "source": [
        "# 마우스로 클릭한 위치에 별 그리기\n",
        "import turtle\n",
        "t = turtle.Turtle()\n",
        "\n",
        "t.speed(0)  # 0: 그리기 속도 가장 빠르게\n",
        "t.screen.bgcolor('black')\n",
        "t.color('yellow') # (거북이)그리기 색상 노랑\n",
        "t.clear()         # 화면 지우기\n",
        "t.penup()\n",
        "\n",
        "# 별 그리기\n",
        "def drawStar(x, y):\n",
        "    t.goto(x, y)\n",
        "    t.pendown()\n",
        "    t.begin_fill()\n",
        "    for _ in range(5):\n",
        "        t.forward(20)\n",
        "        t.right(144)\n",
        "    t.end_fill()\n",
        "    t.penup()\n",
        "\n",
        "# 마우스로 화면 클릭하기\n",
        "turtle.onscreenclick(drawStar)\n",
        "t.ht()\n",
        "\n",
        "# 화면에 포커스가 있는 상태 유지하기\n",
        "turtle.listen()"
      ],
      "metadata": {
        "id": "crtkrhFLiaEz"
      },
      "execution_count": null,
      "outputs": []
    },
    {
      "cell_type": "markdown",
      "source": [
        "### **[반복문-while]**"
      ],
      "metadata": {
        "id": "bIFYG9GZi1au"
      }
    },
    {
      "cell_type": "code",
      "execution_count": null,
      "metadata": {
        "scrolled": true,
        "id": "3AUjxAga8GGb",
        "outputId": "d3b87194-0c31-48cd-a3f0-0cd141cd4e77"
      },
      "outputs": [
        {
          "name": "stdout",
          "output_type": "stream",
          "text": [
            "더할 첫 번째 숫자: 10\n",
            "더할 두 번째 숫자: 20\n",
            "10 + 20 = 30\n",
            "더할 첫 번째 숫자: 55\n",
            "더할 두 번째 숫자: 30\n",
            "55 + 30 = 85\n",
            "더할 첫 번째 숫자: 0\n",
            "0을 입력해서 반복문을 탈출했습니다.\n"
          ]
        }
      ],
      "source": [
        "num1, num2 = 0, 0\n",
        "\n",
        "while True:\n",
        "    num1 = int(input(\"더할 첫 번째 숫자: \"))\n",
        "    if num1 == 0:\n",
        "        break\n",
        "    num2 = int(input(\"더할 두 번째 숫자: \"))\n",
        "\n",
        "    print(f'{num1} + {num2} = {num1 + num2}')\n",
        "\n",
        "print(\"0을 입력해서 반복문을 탈출했습니다.\")\n"
      ]
    },
    {
      "cell_type": "code",
      "source": [
        "num1,num2=100,0\n",
        "while num1>num2:\n",
        "    num2=int(input('숫자입력:'))\n",
        "    print()"
      ],
      "metadata": {
        "id": "ZcX4r160gPBf"
      },
      "execution_count": null,
      "outputs": []
    },
    {
      "cell_type": "markdown",
      "source": [
        "### 실습문제 : 나무 열 번 찍어 넘기기"
      ],
      "metadata": {
        "id": "p7P0Vy-XjIBz"
      }
    },
    {
      "cell_type": "code",
      "source": [
        "cnt=0\n",
        "while cnt < 10:\n",
        "    cnt+=1\n",
        "    print(f'나무를{cnt}번 찍었습니다')\n",
        "\n",
        "print('나무 넘어갑니다')\n",
        "\n",
        "\n"
      ],
      "metadata": {
        "id": "A1OSHn1tjNE5",
        "colab": {
          "base_uri": "https://localhost:8080/"
        },
        "outputId": "a8282383-1076-4b8b-e6c5-7f0363bc7d68"
      },
      "execution_count": 37,
      "outputs": [
        {
          "output_type": "stream",
          "name": "stdout",
          "text": [
            "나무를1번 찍었습니다\n",
            "나무를2번 찍었습니다\n",
            "나무를3번 찍었습니다\n",
            "나무를4번 찍었습니다\n",
            "나무를5번 찍었습니다\n",
            "나무를6번 찍었습니다\n",
            "나무를7번 찍었습니다\n",
            "나무를8번 찍었습니다\n",
            "나무를9번 찍었습니다\n",
            "나무를10번 찍었습니다\n",
            "나무 넘어갑니다\n"
          ]
        }
      ]
    },
    {
      "cell_type": "markdown",
      "metadata": {
        "id": "xLogGjPX8GGb"
      },
      "source": [
        "#### 실습문제: 무한 반복 빠져나오기\n",
        "무한 반복문을 빠져나오기 위한 프로그램을 만들어 보세요"
      ]
    },
    {
      "cell_type": "code",
      "execution_count": null,
      "metadata": {
        "id": "yq1VvWQb8GGb"
      },
      "outputs": [],
      "source": [
        "prompt = \"\"\"\n",
        "    1.Add   2.Del   3.Modify   4.Quit\n",
        "\n",
        "    Enter number: \"\"\"   # 1.코드를 실행하면 출력되는 부분\n",
        "\n",
        "number = 0\n",
        "\n",
        "\n",
        "\n",
        "\n"
      ]
    },
    {
      "cell_type": "markdown",
      "metadata": {
        "id": "H3QS9PpM8GGb"
      },
      "source": [
        "#### 실습문제\n",
        "공을 일정 높이에서 던졌을 때, 원래 높이의 1/2만큼 튀어 오른다고 합니다. 그러다가 높이가 0.00001m보다 낮으면 튀어오르지 않는다고 합니다. while문을 이용하여 이 프로그램을 만들어 보세요."
      ]
    },
    {
      "cell_type": "code",
      "execution_count": null,
      "metadata": {
        "scrolled": true,
        "id": "nRTqUvpG8GGc"
      },
      "outputs": [],
      "source": [
        "length = int(input('공의 높이를 입력하세요(meter) : ')) #방법1\n",
        "cnt, meter = 0, length\n",
        "while True:\n",
        "    cnt += 1    # 바닦에 닿았다.\n",
        "    meter /= 2  # 길이가 1/2으로 줄어든다.\n",
        "    if meter < 0.00001:\n",
        "        break\n",
        "print(f'{length} 위치에서 떨어진 공은 {cnt} 번 튕겼습니다.')\n"
      ]
    },
    {
      "cell_type": "code",
      "source": [
        "length = int(input('공의 높이를 입력하세요(meter) : ')) #방법2\n",
        "cnt, meter = 0, length\n",
        "while meter >= 0.00001:\n",
        "    cnt += 1    # 바닦에 닿았다.\n",
        "    meter /= 2  # 길이가 1/2으로 줄어든다.\n",
        "print(f'{length} 위치에서 떨어진 공은 {cnt} 번 튕겼습니다.')"
      ],
      "metadata": {
        "id": "SimXGCVVz0y7"
      },
      "execution_count": null,
      "outputs": []
    },
    {
      "cell_type": "markdown",
      "metadata": {
        "id": "bBpYo7he8GGc"
      },
      "source": [
        "#### 실습문제 : 도둑잡기 게임 만들기\n",
        "경찰에 쫓기던 범인이 3개의 방 중에 한 곳에 숨어버렸습니다. 범인은 방문을 열 때마다 무작위로 3개의 방 중 하나의 방으로 이동합니다. 3개의 방 중 하나의 방을 선택했을 때 범인이 있다면 100점, 없을 때 -10점을 부여하고 범인을 잡으면 게임을 종료하는 프로그램을 만들어 보세요."
      ]
    },
    {
      "cell_type": "code",
      "execution_count": 39,
      "metadata": {
        "id": "Yjs0Tp0m8GGc",
        "colab": {
          "base_uri": "https://localhost:8080/"
        },
        "outputId": "0aa7da97-bb2f-4b10-b04d-ec7337fff13e"
      },
      "outputs": [
        {
          "output_type": "stream",
          "name": "stdout",
          "text": [
            "방 번호를 입력하세요(1,2,3): 3\n",
            "범인을 찾지 못했다\n",
            "방 번호를 입력하세요(1,2,3): 3\n",
            "범인을 찾지 못했다\n",
            "방 번호를 입력하세요(1,2,3): 3\n",
            "범인체포\n",
            "게임 종료!\n",
            "점수: 80 점\n"
          ]
        }
      ],
      "source": [
        "import random\n",
        "score = 0\n",
        "\n",
        "while True:  # 무한반복\n",
        "    # 1.무작위로 범인 방 배치\n",
        "    room= random.randint(1,3)\n",
        "\n",
        "    # 2.사용자로부터 방 번호 입력 받기\n",
        "    n = int(input('방 번호를 입력하세요(1,2,3): '))\n",
        "\n",
        "    # 3.사용자가 입력한 방 번호와 범인이 있는 방 비교\n",
        "    if room ==  n:\n",
        "        print('범인체포')\n",
        "        score+=100\n",
        "        break\n",
        "    elif room != n:\n",
        "        print('범인을 찾지 못했다')\n",
        "        score-=10\n",
        "\n",
        "\n",
        "\n",
        "\n",
        "\n",
        "print('게임 종료!')        # 게임 종료 메시지 출력\n",
        "print(f'점수: {score} 점') # 최종 점수 출력"
      ]
    },
    {
      "cell_type": "markdown",
      "source": [
        "### 실습문제 :  커피 자동주문 프로그램 업그레이드\n",
        "앞에서 만들어 본 커피 자동주문 머신 프로그램을 while문을 이용하여 돈을 모두 지불할 때까지 돈을 입력 받도록 프로그램 기능 수정하기"
      ],
      "metadata": {
        "id": "iPCnjI9UkoHr"
      }
    },
    {
      "cell_type": "code",
      "source": [
        "coffee1_price = 2500\n",
        "coffee2_price = 3000\n",
        "coffee3_price = 3000\n",
        "menu = f'''[커피 자동주무 머신 메뉴]\n",
        "--------------------------------\n",
        "- 아메리카노 한잔에 {coffee1_price}원\n",
        "- 카페라테는 한잔에 {coffee2_price}원\n",
        "- 카푸치노는 한잔에 {coffee3_price}원\n",
        "원하시는 커피 종류와 잔수를 입력하세요.\n",
        "--------------------------------'''\n",
        "print(menu)\n",
        "coffee1 = int(input('아메리카노 몇잔: '))\n",
        "coffee2 = int(input('카페라테   몇잔: '))\n",
        "coffee3 = int(input('카푸치노   몇잔: '))\n",
        "total = coffee1_price*coffee1 + coffee2_price*coffee2 \\\n",
        "                +coffee3_price*coffee3\n",
        "print(f'지불할 총 금액은 {total} 원 입니다.')\n",
        "\n",
        "while True:\n",
        "    print('-' * 50)\n",
        "    money = int(input('돈을 넣어주세요: '))\n",
        "\n",
        "    change = total - money  # 필요한 금액\n",
        "\n",
        "    if change > 0:\n",
        "        print(f'금액이 부족합니다. {change} 원을 더 넣어주세요.')\n",
        "        total = change\n",
        "    else:\n",
        "        print(f'잔돈은 {abs(change)} 원 입니다.')\n",
        "        print('커피 맛있게 드세요~~~~')\n",
        "        break\n",
        "print('----------------끝!')"
      ],
      "metadata": {
        "id": "HtKho6P3kxtS",
        "colab": {
          "base_uri": "https://localhost:8080/"
        },
        "outputId": "c1365619-a5a0-4858-f94d-3470a28f3b3d"
      },
      "execution_count": 43,
      "outputs": [
        {
          "output_type": "stream",
          "name": "stdout",
          "text": [
            "[커피 자동주무 머신 메뉴]\n",
            "--------------------------------\n",
            "- 아메리카노 한잔에 2500원\n",
            "- 카페라테는 한잔에 3000원\n",
            "- 카푸치노는 한잔에 3000원\n",
            "원하시는 커피 종류와 잔수를 입력하세요.\n",
            "--------------------------------\n",
            "아메리카노 몇잔: 1\n",
            "카페라테   몇잔: 1\n",
            "카푸치노   몇잔: 1\n",
            "지불할 총 금액은 8500 원 입니다.\n",
            "--------------------------------------------------\n",
            "돈을 넣어주세요: 4000\n",
            "금액이 부족합니다. 4500 원을 더 넣어주세요.\n",
            "--------------------------------------------------\n",
            "돈을 넣어주세요: 5000\n",
            "잔돈은 500 원 입니다.\n",
            "커피 맛있게 드세요~~~~\n",
            "----------------끝!\n"
          ]
        }
      ]
    },
    {
      "cell_type": "markdown",
      "source": [
        "### **[난수(Random Number)]**"
      ],
      "metadata": {
        "id": "7GhEbWbZk7E6"
      }
    },
    {
      "cell_type": "markdown",
      "source": [
        "### 실습문제 : 임의의 두 수 합 구하기\n",
        "1부터 10까지의 범위를 갖는 임의의 두 정수 a, b를 더하여 결과 출력하기"
      ],
      "metadata": {
        "id": "AKBc_UvYk7Xj"
      }
    },
    {
      "cell_type": "code",
      "source": [
        "import random\n",
        "\n",
        "a=random.randint(1,10)\n",
        "b=random.randint(1,10)\n",
        "print(f'{a}+{b}={a+b}')\n"
      ],
      "metadata": {
        "id": "C4ehMBmgk7pP",
        "colab": {
          "base_uri": "https://localhost:8080/"
        },
        "outputId": "6ab51652-de2f-40ce-bc7c-8ddb09a37dd7"
      },
      "execution_count": 45,
      "outputs": [
        {
          "output_type": "stream",
          "name": "stdout",
          "text": [
            "9+2=11\n"
          ]
        }
      ]
    },
    {
      "cell_type": "markdown",
      "source": [
        "### 실습문제 : 던져 나온 주사위의 눈금별 횟수 카운팅\n",
        "주사위를 100번 던져서 나오는 숫자를 각 숫자별로 카운트하고 가장 많이 나온 숫자와 그 숫자의 횟수를 출력하시오."
      ],
      "metadata": {
        "id": "cMhO5aWxlOF7"
      }
    },
    {
      "cell_type": "code",
      "source": [
        "import random\n",
        "dice=[0,0,0,0,0,0]\n",
        "for i in range(100):\n",
        "    x=random.randint(1,6)\n",
        "    dice[x-1]=dice[x-1]+1\n",
        "print(f'주사위 숫자별 나온 횟수:{dice}')\n",
        "print(f'가장 많이 나온 횟수는: {max(dice)}')\n",
        "print(f'가장 많이 나온 횟수의 주사위 눈금은:{dice.index(max(dice))}')\n",
        "\n",
        "\n"
      ],
      "metadata": {
        "id": "XUHOX-OzlONF",
        "colab": {
          "base_uri": "https://localhost:8080/"
        },
        "outputId": "7dc4d7ac-d547-45f9-fd07-82863e7b3a30"
      },
      "execution_count": 47,
      "outputs": [
        {
          "output_type": "stream",
          "name": "stdout",
          "text": [
            "주사위 숫자별 나온 횟수:[16, 11, 20, 20, 16, 17]\n",
            "가장 많이 나온 횟수는: 20\n",
            "가장 많이 나온 횟수의 주사위 눈금은:2\n"
          ]
        }
      ]
    },
    {
      "cell_type": "code",
      "source": [
        "# 리스트 컴프리헨션\n",
        "# 성적 :\n",
        "score = [90, 100, 80, 99, 88]\n",
        "student_score = []\n",
        "for x in score:\n",
        "    student_score.append(f'수학 {x}점')\n",
        "print(student_score)\n",
        "score = [90, 100, 80, 99, 88]\n",
        "student_score = [ f'수학 {x}점' for x in score ]\n",
        "print(student_score)"
      ],
      "metadata": {
        "colab": {
          "base_uri": "https://localhost:8080/"
        },
        "id": "grwmCOCfAryk",
        "outputId": "c9d245b7-5f7e-48a7-a6ee-628c78736a4b"
      },
      "execution_count": 49,
      "outputs": [
        {
          "output_type": "stream",
          "name": "stdout",
          "text": [
            "['수학 90점', '수학 100점', '수학 80점', '수학 99점', '수학 88점']\n",
            "['수학 90점', '수학 100점', '수학 80점', '수학 99점', '수학 88점']\n"
          ]
        }
      ]
    },
    {
      "cell_type": "markdown",
      "metadata": {
        "id": "FTX-Fvb28GGc"
      },
      "source": [
        "------"
      ]
    },
    {
      "cell_type": "markdown",
      "metadata": {
        "id": "8tdBEUuy8GGe"
      },
      "source": [
        "### 2-3. 함수를 이용하여 알고리즘 만들기"
      ]
    },
    {
      "cell_type": "markdown",
      "metadata": {
        "id": "A50BCkk98GGe"
      },
      "source": [
        "### **[함수 & 모듈]**"
      ]
    },
    {
      "cell_type": "code",
      "execution_count": null,
      "metadata": {
        "id": "3gNw75bI8GGe"
      },
      "outputs": [],
      "source": [
        "def nSum(a, b):\n",
        "    c = a + b\n",
        "    return c\n",
        "\n",
        "nSum(50, 3)"
      ]
    },
    {
      "cell_type": "markdown",
      "source": [
        "####  함수의 구조\n",
        "매개변수와 리턴값에 따른 함수의 유형 예"
      ],
      "metadata": {
        "id": "ZH2oJDOzmgta"
      }
    },
    {
      "cell_type": "markdown",
      "source": [
        "- 매개변수(X), 리턴값(X)"
      ],
      "metadata": {
        "id": "ZVu_uCmBmwX9"
      }
    },
    {
      "cell_type": "code",
      "source": [
        "def func():\n",
        "    print('안녕하세요!')\n",
        "\n",
        "print( func() )"
      ],
      "metadata": {
        "id": "PhoFdGdpmg2i"
      },
      "execution_count": null,
      "outputs": []
    },
    {
      "cell_type": "markdown",
      "source": [
        "- 매개변수(X), 리턴값(O)"
      ],
      "metadata": {
        "id": "rYJvu1mKm1lA"
      }
    },
    {
      "cell_type": "code",
      "source": [
        "def func():\n",
        "    print('안녕하세요!')\n",
        "    return '처리완료!'\n",
        "\n",
        "print( func() )"
      ],
      "metadata": {
        "id": "RtmltcdOm1sg"
      },
      "execution_count": null,
      "outputs": []
    },
    {
      "cell_type": "markdown",
      "source": [
        "- 매개변수(O), 리턴값(X)"
      ],
      "metadata": {
        "id": "kAiXc3qom1zq"
      }
    },
    {
      "cell_type": "code",
      "source": [
        "def func(a, b):\n",
        "    print('덧셈: %d + %d = %d' % (a, b, a+b))\n",
        "\n",
        "print( func(5, 7) )"
      ],
      "metadata": {
        "id": "mdneVBp_m16L"
      },
      "execution_count": null,
      "outputs": []
    },
    {
      "cell_type": "markdown",
      "source": [
        "- 매개변수(O), 리턴값(O)"
      ],
      "metadata": {
        "id": "UWx5mc2Bm2Ah"
      }
    },
    {
      "cell_type": "code",
      "source": [
        "def func(a, b):\n",
        "    print('덧셈: %d + %d = %d' % (a, b, a+b))\n",
        "    return a+b\n",
        "\n",
        "print( func(5, 7) )"
      ],
      "metadata": {
        "id": "u40Eqnc1m2IB"
      },
      "execution_count": null,
      "outputs": []
    },
    {
      "cell_type": "markdown",
      "source": [
        "### 실습문제 : 암스트롱수 구하기\n",
        "다음 조건을 참고하여 암스트롱수를 구하는 함수를 만들어 출력하는 프로그램을 만들어 보세요.\n",
        "- **암스트롱수** : 세 자리의 정수 중에서 각 자리의 수를 세 제곱한 수의 합과 자신이 같은 수"
      ],
      "metadata": {
        "id": "Oq6XLdiqm9lV"
      }
    },
    {
      "cell_type": "code",
      "source": [
        "# 암스트롱수 구하기\n",
        "def is_armstringNumber(N):\n",
        "    N100 = N//100\n",
        "    N10  = (N - N100*100)//10\n",
        "    N1   = (N - N100*100 - N10*10)\n",
        "    # print(f'{N100} {N10} {N1}')\n",
        "    if N == (N100**3 + N10**3 + N1**3):\n",
        "        return True\n",
        "    else:\n",
        "        return False\n",
        "\n",
        "for i in range(100, 1000):\n",
        "    if is_armstringNumber(i):\n",
        "        print(f'[{i}] 암수트롱 수!')\n",
        "\n",
        "\n"
      ],
      "metadata": {
        "id": "DvFLshFqm9t8",
        "colab": {
          "base_uri": "https://localhost:8080/"
        },
        "outputId": "7082c789-a447-4002-e27d-72d8c2eea7d3"
      },
      "execution_count": 51,
      "outputs": [
        {
          "output_type": "stream",
          "name": "stdout",
          "text": [
            "[153] 암수트롱 수!\n",
            "[370] 암수트롱 수!\n",
            "[371] 암수트롱 수!\n",
            "[407] 암수트롱 수!\n"
          ]
        }
      ]
    },
    {
      "cell_type": "code",
      "source": [
        "# 암스트롱수 구하기 : 방법2\n",
        "def is_armstringNumber(N):\n",
        "    N100 = int(str(N)[0])     # 100의 자리수\n",
        "    N10  = int(str(N)[1])     # 10의 자리수\n",
        "    N1   = int(str(N)[2])     # 1의 자리수\n",
        "    # print(f'{N100} {N10} {N1}')\n",
        "    if N == (N100**3 + N10**3 + N1**3):\n",
        "        return True\n",
        "    else:\n",
        "        return False\n",
        "\n",
        "for i in range(100, 1000):\n",
        "    if is_armstringNumber(i):\n",
        "        print(f'[{i}] 암수트롱 수!')"
      ],
      "metadata": {
        "colab": {
          "base_uri": "https://localhost:8080/"
        },
        "id": "9rVcYC-hJ4-B",
        "outputId": "6fdad418-328f-48e5-b4e0-38c269914e3f"
      },
      "execution_count": 52,
      "outputs": [
        {
          "output_type": "stream",
          "name": "stdout",
          "text": [
            "[153] 암수트롱 수!\n",
            "[370] 암수트롱 수!\n",
            "[371] 암수트롱 수!\n",
            "[407] 암수트롱 수!\n"
          ]
        }
      ]
    },
    {
      "cell_type": "code",
      "source": [],
      "metadata": {
        "id": "ZSE0i365LzAN"
      },
      "execution_count": null,
      "outputs": []
    },
    {
      "cell_type": "markdown",
      "metadata": {
        "id": "Kvzu_J_a8GGf"
      },
      "source": [
        "#### 실습문제\n",
        "아래 조건을 만족하는 커피 자동주문 머신을 만들어보세요."
      ]
    },
    {
      "cell_type": "code",
      "execution_count": null,
      "metadata": {
        "scrolled": true,
        "id": "x1jdgfzq8GGf"
      },
      "outputs": [],
      "source": [
        "def coffeeMachine(coffee1, coffee2, coffee3):\n",
        "\n",
        "\n",
        "\n",
        "\n",
        "menu = '''[커피 자동주문 머신 메뉴]\n",
        "------------------------------\n",
        "-아메리카노는 2500원\n",
        "-카레라떼는 3000원\n",
        "-카푸치노는 3000원\n",
        "입니다. 원하시는 커피종류와 잔수를 입력하세요.\n",
        "------------------------------'''\n",
        "print(menu)\n",
        "coffee1 = int(input(\"아메리카노 몇잔?: \"))\n",
        "coffee2 = int(input(\"카페라떼 몇잔?: \"))\n",
        "coffee3 = int(input(\"카푸치노 몇잔?: \"))\n",
        "\n",
        "coffeeMachine(coffee1, coffee2, coffee3)"
      ]
    },
    {
      "cell_type": "markdown",
      "metadata": {
        "id": "Ajjvg18_8GGg"
      },
      "source": [
        "### 2-4. [미션] 응용 프로그램 만들기"
      ]
    },
    {
      "cell_type": "markdown",
      "metadata": {
        "id": "06eDtoTC8GGf"
      },
      "source": [
        "#### 실습문제\n",
        "아래 조건을 만족시키는 <영어단어장 만들기> 프로그램을 만들어 보세요.\n",
        "\n",
        "영단어는 key, 그의 뜻은 value 로 두는 dictionary 를 만드세요.<br>\n",
        "<메뉴>\n",
        " - 1. 단어 등록\n",
        " - 2. 단어 검색\n",
        " - 3. 단어 삭제\n",
        " - 4. 모든 단어 보기\n",
        " - 0. 종료하기\n",
        "\n",
        "1. 단어 등록 <br>\n",
        "    새 영단어와 그의 뜻을 입력 받고 dictionary 에 추가합니다.\n",
        "\n",
        "2. 단어 검색<br>\n",
        "    영단어를 입력 받아 그의 뜻을 출력합니다.<br>\n",
        "    미등록된 단어인 경우 '미등록 단어'를 출력합니다.\n",
        "    \n",
        "3. 단어 삭제<br>\n",
        "    영단어를 입력 받아 단어장에서 해당 단어를 삭제한다.<br>\n",
        "    미등록된 단어인 경우 '미등록 단어'를 출력합니다\n",
        "    \n",
        "4. 모든 단어 보기<br>\n",
        "    현재 등록되어 있는 모든 단어와 뜻을 출력합니다.\n",
        "\n",
        "0. 종료하기"
      ]
    },
    {
      "cell_type": "code",
      "execution_count": null,
      "metadata": {
        "id": "zEbKEifR8GGf"
      },
      "outputs": [],
      "source": [
        "\n"
      ]
    },
    {
      "cell_type": "markdown",
      "source": [
        "\n",
        "\n",
        "---\n",
        "THE END\n",
        "\n"
      ],
      "metadata": {
        "id": "SD7IuCtyEfxZ"
      }
    },
    {
      "cell_type": "markdown",
      "metadata": {
        "id": "RQoDVEJ38GGg"
      },
      "source": [
        "------"
      ]
    }
  ],
  "metadata": {
    "kernelspec": {
      "display_name": "Python 3",
      "language": "python",
      "name": "python3"
    },
    "language_info": {
      "codemirror_mode": {
        "name": "ipython",
        "version": 3
      },
      "file_extension": ".py",
      "mimetype": "text/x-python",
      "name": "python",
      "nbconvert_exporter": "python",
      "pygments_lexer": "ipython3",
      "version": "3.9.10"
    },
    "colab": {
      "provenance": [],
      "include_colab_link": true
    }
  },
  "nbformat": 4,
  "nbformat_minor": 0
}