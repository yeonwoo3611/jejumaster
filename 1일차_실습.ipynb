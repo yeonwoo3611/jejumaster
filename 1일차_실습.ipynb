{
  "nbformat": 4,
  "nbformat_minor": 0,
  "metadata": {
    "colab": {
      "provenance": [],
      "toc_visible": true,
      "authorship_tag": "ABX9TyNS6t7tfhsXBRxiPQKqUwiK",
      "include_colab_link": true
    },
    "kernelspec": {
      "name": "python3",
      "display_name": "Python 3"
    },
    "language_info": {
      "name": "python"
    }
  },
  "cells": [
    {
      "cell_type": "markdown",
      "metadata": {
        "id": "view-in-github",
        "colab_type": "text"
      },
      "source": [
        "<a href=\"https://colab.research.google.com/github/yeonwoo3611/jejumaster/blob/main/1%EC%9D%BC%EC%B0%A8_%EC%8B%A4%EC%8A%B5.ipynb\" target=\"_parent\"><img src=\"https://colab.research.google.com/assets/colab-badge.svg\" alt=\"Open In Colab\"/></a>"
      ]
    },
    {
      "cell_type": "markdown",
      "source": [
        "# 1일차-파이썬 실습\n",
        "## 코랩에서 파이썬 사용하기\n",
        "\n",
        "\n",
        "---\n",
        "설명도 입력할 수 있다\n",
        "\n"
      ],
      "metadata": {
        "id": "LUktdpiY01at"
      }
    },
    {
      "cell_type": "code",
      "source": [
        "pip list"
      ],
      "metadata": {
        "id": "K_GK1M443W0l"
      },
      "execution_count": null,
      "outputs": []
    },
    {
      "cell_type": "code",
      "execution_count": 1,
      "metadata": {
        "colab": {
          "base_uri": "https://localhost:8080/"
        },
        "id": "4hYKWdIBz4qn",
        "outputId": "cc421c99-3b35-437a-ea94-4ad71677ae70"
      },
      "outputs": [
        {
          "output_type": "stream",
          "name": "stdout",
          "text": [
            "파이썬 버전:3.10.12 (main, Jun 11 2023, 05:26:28) [GCC 11.4.0]\n",
            "--------------------------------------------------\n",
            "파이썬 실행파일경로: ['/content', '/env/python', '/usr/lib/python310.zip', '/usr/lib/python3.10', '/usr/lib/python3.10/lib-dynload', '', '/usr/local/lib/python3.10/dist-packages', '/usr/lib/python3/dist-packages', '/usr/local/lib/python3.10/dist-packages/IPython/extensions', '/root/.ipython']\n"
          ]
        }
      ],
      "source": [
        "import sys\n",
        "\n",
        "print(f'파이썬 버전:{sys.version}')\n",
        "print('-'*50)\n",
        "print('파이썬 실행파일경로: %s' % sys.path)"
      ]
    },
    {
      "cell_type": "code",
      "source": [],
      "metadata": {
        "id": "scly5E5O3vy7"
      },
      "execution_count": null,
      "outputs": []
    }
  ]
}